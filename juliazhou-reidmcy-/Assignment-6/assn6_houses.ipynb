{
 "cells": [
  {
   "cell_type": "code",
   "execution_count": 268,
   "metadata": {
    "collapsed": true
   },
   "outputs": [],
   "source": [
    "import os\n",
    "import re\n",
    "import json\n",
    "import matplotlib.pyplot as plt\n",
    "import numpy as np\n",
    "import string\n",
    "import pandas as pd\n",
    "\n",
    "from sklearn.metrics import mean_squared_error, mean_absolute_error\n",
    "from sklearn.model_selection import train_test_split\n",
    "from sklearn import preprocessing\n",
    "from sklearn.ensemble import RandomForestRegressor\n",
    "\n",
    "from os import listdir\n",
    "from os.path import isfile, join\n",
    "from pyspark.ml.linalg import Vectors\n",
    "from sklearn.metrics import mean_squared_error\n",
    "from sklearn.manifold import TSNE\n",
    "from itertools import chain\n",
    "from scipy.sparse import coo_matrix\n",
    "from pyspark.mllib.linalg.distributed import CoordinateMatrix, MatrixEntry, IndexedRow, IndexedRowMatrix\n",
    "from pyspark.sql import Row\n",
    "from sklearn.ensemble import AdaBoostClassifier\n",
    "from sklearn.linear_model import SGDClassifier, RidgeClassifierCV\n",
    "from operator import add\n",
    "from pyspark.sql.functions import udf\n",
    "from pyspark.sql import SparkSession\n",
    "from pyspark.sql.types import IntegerType, FloatType\n",
    "from __future__ import print_function, unicode_literals, with_statement, absolute_import, generators, nested_scopes, division\n",
    "from pyspark.sql.functions import mean, stddev\n",
    "%matplotlib inline"
   ]
  },
  {
   "cell_type": "code",
   "execution_count": 2,
   "metadata": {
    "collapsed": true
   },
   "outputs": [],
   "source": [
    "# Local Spark\n",
    "# spark session is now the entry point of spark program\n",
    "# for line 8, can use local[n] for run spark locally with n cores\n",
    "\n",
    "runLocal = True\n",
    "if runLocal == True:\n",
    "    spark = SparkSession.builder \\\n",
    "        .master('local[50]') \\\n",
    "        .appName(\"Word Count\") \\\n",
    "        .config(\"spark.driver.maxResultSize\", \"15g\")\\\n",
    "        .getOrCreate()\n",
    "else:\n",
    "    #p = subprocess.Popen(['sinteractive', '--partition=broadwl', '--cpus-per-task=10', '--time=00:30:00'], stdout=subprocess.PIPE, shell = True)\n",
    "    #print(p.stdout.read())\n",
    "    # start spark master program on this machine and register worker nodes\n",
    "    os.system('start-spark-slurm.sh&') # use & to put it into background\n",
    "    # get ip address of this machine\n",
    "    ip = os.popen('hostname -i').read().strip('\\n')\n",
    "    # change 'local' to be ip of master node\n",
    "    spark = SparkSession.builder \\\n",
    "        .master('spark://' + ip + ':7077') \\\n",
    "        .appName('Word Count') \\\n",
    "        .config(\"spark.driver.maxResultSize\", \"15g\")\\\n",
    "        .getOrCreate()\n",
    "    print('Spark Session web UI: http://{}:4040'.format(ip))"
   ]
  },
  {
   "cell_type": "code",
   "execution_count": 251,
   "metadata": {
    "collapsed": true
   },
   "outputs": [],
   "source": [
    "trainData = spark.read.option('header', 'true').csv('/project/cmsc25025/zillow/zillow-train.csv').dropna()\n",
    "testData_ = spark.read.option('header', 'true').csv('/project/cmsc25025/zillow/zillow-test.csv').dropna()"
   ]
  },
  {
   "cell_type": "code",
   "execution_count": 4,
   "metadata": {
    "collapsed": false
   },
   "outputs": [
    {
     "name": "stdout",
     "output_type": "stream",
     "text": [
      "+-------+---------+----------+---------+--------+--------+-------+---------+-----------+----------+----------+-------+-------+----------+--------------------+---------+\n",
      "|     ID|      Lat|      Long|ListPrice|SaleYear|Bathroom|Bedroom|BuiltYear|BuildDecade|MajorRenov|FinishSqFt|LotSqFt|    MSA|      City|          HighSchool|SalePrice|\n",
      "+-------+---------+----------+---------+--------+--------+-------+---------+-----------+----------+----------+-------+-------+----------+--------------------+---------+\n",
      "|3243035|42.145705|-88.138659|    99000|    2012|       2|      2|     1953|       1950|      NONE|      1020|  14344|Chicago|Barrington|Barrington High S...|    90000|\n",
      "+-------+---------+----------+---------+--------+--------+-------+---------+-----------+----------+----------+-------+-------+----------+--------------------+---------+\n",
      "only showing top 1 row\n",
      "\n"
     ]
    }
   ],
   "source": [
    "trainData.show(1)"
   ]
  },
  {
   "cell_type": "code",
   "execution_count": 68,
   "metadata": {
    "collapsed": false
   },
   "outputs": [],
   "source": [
    "numerical_cols = ['Lat', 'Long', 'MajorRenov','ListPrice', 'SaleYear', 'Bathroom', 'Bedroom', 'BuiltYear',\n",
    "'BuildDecade', 'FinishSqFt', 'LotSqFt', 'SalePrice']\n",
    "cate_cols = ['MSA', 'City', 'HighSchool']"
   ]
  },
  {
   "cell_type": "markdown",
   "metadata": {},
   "source": [
    "# (a) \n",
    "Explore the data to learn what the different predictor variables are, and what their distribution looks like. Make plots of these distributions. Some of the variables are categorical—how many values do they take? When you plot the variables, including the response SalePrice, does it appear that the data are “raw” or that they have been preprocessed in different ways? How?"
   ]
  },
  {
   "cell_type": "code",
   "execution_count": 28,
   "metadata": {
    "collapsed": false
   },
   "outputs": [
    {
     "name": "stdout",
     "output_type": "stream",
     "text": [
      "+-------+------------------+------------------+------------------+------------------+------------------+\n",
      "|summary|        MajorRenov|         ListPrice|          SaleYear|          Bathroom|           Bedroom|\n",
      "+-------+------------------+------------------+------------------+------------------+------------------+\n",
      "|  count|            185999|            185999|            185999|            185999|            185999|\n",
      "|   mean|1996.9621991084696| 422109.2101045925| 2013.387179500965|2.3313512438238915| 3.200490325216802|\n",
      "| stddev| 23.80040133233472|268237.03829118336|1.0476354926055451|0.8470899795255945|1.0397494462458778|\n",
      "|    min|              1860|          1.00E+05|              2007|                 1|                 0|\n",
      "|    max|              NONE|            999999|              2015|               5.5|                 7|\n",
      "+-------+------------------+------------------+------------------+------------------+------------------+\n",
      "\n"
     ]
    }
   ],
   "source": [
    "trainData.describe(numerical_cols[2:7]).show()"
   ]
  },
  {
   "cell_type": "code",
   "execution_count": 29,
   "metadata": {
    "collapsed": false
   },
   "outputs": [
    {
     "name": "stdout",
     "output_type": "stream",
     "text": [
      "+-------+-----------------+------------------+------------------+-----------------+------------------+\n",
      "|summary|        BuiltYear|       BuildDecade|        FinishSqFt|          LotSqFt|         SalePrice|\n",
      "+-------+-----------------+------------------+------------------+-----------------+------------------+\n",
      "|  count|           185999|            185999|            185999|           185999|            185999|\n",
      "|   mean|1973.337904515984|1968.9945269303096|1918.3190118544771|7916.661579417607| 413089.8861481574|\n",
      "| stddev|27.61004439890775| 27.41744017219692| 812.9502700920468|3652.103295316715|264045.70279259374|\n",
      "|    min|             1600|              1600|                 0|                0|          1.00E+05|\n",
      "|    max|               NA|           UNKNOWN|             999.5|           9999.5|            999999|\n",
      "+-------+-----------------+------------------+------------------+-----------------+------------------+\n",
      "\n"
     ]
    }
   ],
   "source": [
    "trainData.describe(numerical_cols[7:]).show()"
   ]
  },
  {
   "cell_type": "code",
   "execution_count": 8,
   "metadata": {
    "collapsed": false
   },
   "outputs": [],
   "source": [
    "mr = trainData.select('MajorRenov').rdd.flatMap(lambda x: x).collect()\n",
    "sy = trainData.select('SaleYear').rdd.flatMap(lambda x: x).collect()\n",
    "lp = trainData.select('ListPrice').rdd.flatMap(lambda x: x).collect()\n",
    "bath = trainData.select('Bathroom').rdd.flatMap(lambda x: x).collect()\n",
    "bed = trainData.select('Bedroom').rdd.flatMap(lambda x: x).collect()\n",
    "bd = trainData.select('BuildDecade').rdd.flatMap(lambda x: x).collect()\n",
    "fs = trainData.select('FinishSqFt').rdd.flatMap(lambda x: x).collect()\n",
    "ls = trainData.select('LotSqFt').rdd.flatMap(lambda x: x).collect()\n",
    "by = trainData.select('BuiltYear').rdd.flatMap(lambda x: x).collect()\n",
    "sp = trainData.select('SalePrice').rdd.flatMap(lambda x: x).collect()"
   ]
  },
  {
   "cell_type": "code",
   "execution_count": 9,
   "metadata": {
    "collapsed": false
   },
   "outputs": [
    {
     "data": {
      "image/png": "[encoded data removed]",
      "text/plain": [
       "<matplotlib.figure.Figure at 0x7f2e6e8e6490>"
      ]
     },
     "metadata": {},
     "output_type": "display_data"
    }
   ],
   "source": [
    "plt.plot(lp,sp, 'ro')\n",
    "plt.title('Distribution of sales price VS list price')\n",
    "plt.xlabel('List Price')\n",
    "plt.ylabel('sales price')\n",
    "plt.show()"
   ]
  },
  {
   "cell_type": "code",
   "execution_count": 10,
   "metadata": {
    "collapsed": false
   },
   "outputs": [
    {
     "data": {
      "text/plain": [
       "<matplotlib.text.Text at 0x7f2e12251f90>"
      ]
     },
     "execution_count": 10,
     "metadata": {},
     "output_type": "execute_result"
    },
    {
     "data": {
      "image/png": "[encoded data removed]",
      "text/plain": [
       "<matplotlib.figure.Figure at 0x7f2e6e8cb4d0>"
      ]
     },
     "metadata": {},
     "output_type": "display_data"
    }
   ],
   "source": [
    "plt.plot(sy,sp, 'ro')\n",
    "plt.title('Distribution of sales year VS list price')\n",
    "plt.xlabel('Sale year')\n",
    "plt.ylabel('sale price')"
   ]
  },
  {
   "cell_type": "code",
   "execution_count": 11,
   "metadata": {
    "collapsed": false
   },
   "outputs": [
    {
     "data": {
      "text/plain": [
       "<matplotlib.text.Text at 0x7f2e6e8cbf50>"
      ]
     },
     "execution_count": 11,
     "metadata": {},
     "output_type": "execute_result"
    },
    {
     "data": {
      "image/png": "[encoded data removed]",
      "text/plain": [
       "<matplotlib.figure.Figure at 0x7f2e12163190>"
      ]
     },
     "metadata": {},
     "output_type": "display_data"
    }
   ],
   "source": [
    "plt.plot(bath,sp, 'ro')\n",
    "plt.title('Distribution of number of bathroom VS list price')\n",
    "plt.xlabel('bathroom')\n",
    "plt.ylabel('Sale Price')"
   ]
  },
  {
   "cell_type": "code",
   "execution_count": 12,
   "metadata": {
    "collapsed": false
   },
   "outputs": [
    {
     "data": {
      "text/plain": [
       "<matplotlib.text.Text at 0x7f2df35e7950>"
      ]
     },
     "execution_count": 12,
     "metadata": {},
     "output_type": "execute_result"
    },
    {
     "data": {
      "image/png": "[encoded data removed]",
      "text/plain": [
       "<matplotlib.figure.Figure at 0x7f2df35fc110>"
      ]
     },
     "metadata": {},
     "output_type": "display_data"
    }
   ],
   "source": [
    "plt.plot(bed,sp, 'ro')\n",
    "plt.title('Distribution of number of bedroom VS list price')\n",
    "plt.xlabel('Bedroom')\n",
    "plt.ylabel('Sale Price')"
   ]
  },
  {
   "cell_type": "code",
   "execution_count": 13,
   "metadata": {
    "collapsed": false
   },
   "outputs": [
    {
     "data": {
      "text/plain": [
       "<matplotlib.text.Text at 0x7f2e1217b790>"
      ]
     },
     "execution_count": 13,
     "metadata": {},
     "output_type": "execute_result"
    },
    {
     "data": {
      "image/png": "[encoded data removed]",
      "text/plain": [
       "<matplotlib.figure.Figure at 0x7f2df35b5950>"
      ]
     },
     "metadata": {},
     "output_type": "display_data"
    }
   ],
   "source": [
    "d = {'by': by, 'sp': sp}\n",
    "df = pd.DataFrame(d)\n",
    "df = df[df.by != 'NA']\n",
    "\n",
    "plt.plot(df.by,df.sp, 'ro')\n",
    "plt.title('Distribution of built year VS list price')\n",
    "plt.xlabel('Built Year')\n",
    "plt.ylabel('Sale Price')"
   ]
  },
  {
   "cell_type": "code",
   "execution_count": 15,
   "metadata": {
    "collapsed": false
   },
   "outputs": [
    {
     "data": {
      "text/plain": [
       "<matplotlib.text.Text at 0x7f2df1ba4050>"
      ]
     },
     "execution_count": 15,
     "metadata": {},
     "output_type": "execute_result"
    },
    {
     "data": {
      "image/png": "[encoded data removed]",
      "text/plain": [
       "<matplotlib.figure.Figure at 0x7f2df1b3e6d0>"
      ]
     },
     "metadata": {},
     "output_type": "display_data"
    }
   ],
   "source": [
    "d = {'bd': by, 'sp': sp}\n",
    "df = pd.DataFrame(d)\n",
    "df = df[df.bd != 'NA']\n",
    "\n",
    "plt.plot(df.bd,df.sp, 'ro')\n",
    "plt.title('Distribution of built decade VS list price')\n",
    "plt.xlabel('Built Decade')\n",
    "plt.ylabel('Sale Price')"
   ]
  },
  {
   "cell_type": "code",
   "execution_count": 16,
   "metadata": {
    "collapsed": false
   },
   "outputs": [
    {
     "data": {
      "text/plain": [
       "<matplotlib.text.Text at 0x7f2df2c70350>"
      ]
     },
     "execution_count": 16,
     "metadata": {},
     "output_type": "execute_result"
    },
    {
     "data": {
      "image/png": "[encoded data removed]",
      "text/plain": [
       "<matplotlib.figure.Figure at 0x7f2df1c5a190>"
      ]
     },
     "metadata": {},
     "output_type": "display_data"
    }
   ],
   "source": [
    "plt.plot(fs,sp, 'ro')\n",
    "plt.title('Distribution of Finish SqFt VS list price')\n",
    "plt.xlabel('Finish SqFt')\n",
    "plt.ylabel('Sale Price')"
   ]
  },
  {
   "cell_type": "code",
   "execution_count": 17,
   "metadata": {
    "collapsed": false
   },
   "outputs": [
    {
     "data": {
      "text/plain": [
       "<matplotlib.text.Text at 0x7f2e13360510>"
      ]
     },
     "execution_count": 17,
     "metadata": {},
     "output_type": "execute_result"
    },
    {
     "data": {
      "image/png": "[encoded data removed]",
      "text/plain": [
       "<matplotlib.figure.Figure at 0x7f2e133f3a90>"
      ]
     },
     "metadata": {},
     "output_type": "display_data"
    }
   ],
   "source": [
    "plt.plot(ls,sp, 'ro')\n",
    "plt.title('Distribution of LotSqFt VS list price')\n",
    "plt.xlabel('Lot SqFt')\n",
    "plt.ylabel('Sale Price')"
   ]
  },
  {
   "cell_type": "code",
   "execution_count": 25,
   "metadata": {
    "collapsed": false
   },
   "outputs": [
    {
     "data": {
      "text/plain": [
       "<matplotlib.text.Text at 0x7f2e13360ed0>"
      ]
     },
     "execution_count": 25,
     "metadata": {},
     "output_type": "execute_result"
    },
    {
     "data": {
      "image/png": "[encoded data removed]",
      "text/plain": [
       "<matplotlib.figure.Figure at 0x7f2df1ae6890>"
      ]
     },
     "metadata": {},
     "output_type": "display_data"
    }
   ],
   "source": [
    "d = {'mr': mr, 'sp': sp}\n",
    "df = pd.DataFrame(d)\n",
    "df = df[df.mr != 'NONE']\n",
    "\n",
    "plt.plot(df.mr,df.sp, 'ro')\n",
    "plt.title('Distribution of major renovation year VS list price')\n",
    "plt.xlabel('Major renovation')\n",
    "plt.ylabel('Sale Price')"
   ]
  },
  {
   "cell_type": "markdown",
   "metadata": {},
   "source": [
    "For numerical variables, we could observe their distribution from summary statistics and get an idea of their effects on the sale price. Through observing these scatter plots, we could realize that there are sharp changes in y values for both Finish sqft and Lot sqft. This may indicate that these two variables have been preprocessed."
   ]
  },
  {
   "cell_type": "code",
   "execution_count": 21,
   "metadata": {
    "collapsed": true
   },
   "outputs": [],
   "source": [
    "msa = trainData.select('MSA').rdd.flatMap(lambda x: x).collect()\n",
    "c = trainData.select('City').rdd.flatMap(lambda x: x).collect()\n",
    "hs = trainData.select('HighSchool').rdd.flatMap(lambda x: x).collect()"
   ]
  },
  {
   "cell_type": "code",
   "execution_count": 44,
   "metadata": {
    "collapsed": false
   },
   "outputs": [
    {
     "name": "stdout",
     "output_type": "stream",
     "text": [
      "Number of distinct values: 4\n"
     ]
    },
    {
     "data": {
      "text/html": [
       "<div>\n",
       "<table border=\"1\" class=\"dataframe\">\n",
       "  <thead>\n",
       "    <tr style=\"text-align: right;\">\n",
       "      <th></th>\n",
       "      <th>sp</th>\n",
       "    </tr>\n",
       "    <tr>\n",
       "      <th>msa</th>\n",
       "      <th></th>\n",
       "    </tr>\n",
       "  </thead>\n",
       "  <tbody>\n",
       "    <tr>\n",
       "      <th>Los Angeles</th>\n",
       "      <td>593136.685402</td>\n",
       "    </tr>\n",
       "    <tr>\n",
       "      <th>New York City</th>\n",
       "      <td>481713.603733</td>\n",
       "    </tr>\n",
       "    <tr>\n",
       "      <th>Chicago</th>\n",
       "      <td>303921.825395</td>\n",
       "    </tr>\n",
       "    <tr>\n",
       "      <th>Dallas</th>\n",
       "      <td>218378.397395</td>\n",
       "    </tr>\n",
       "  </tbody>\n",
       "</table>\n",
       "</div>"
      ],
      "text/plain": [
       "                          sp\n",
       "msa                         \n",
       "Los Angeles    593136.685402\n",
       "New York City  481713.603733\n",
       "Chicago        303921.825395\n",
       "Dallas         218378.397395"
      ]
     },
     "execution_count": 44,
     "metadata": {},
     "output_type": "execute_result"
    }
   ],
   "source": [
    "d = {'msa': msa, 'sp': [float(x) for x in sp]}\n",
    "df = pd.DataFrame(d).groupby(['msa']).mean()\n",
    "print('Number of distinct values:', len(df))\n",
    "df.sort_values(by = 'sp',ascending = False)"
   ]
  },
  {
   "cell_type": "code",
   "execution_count": 233,
   "metadata": {
    "collapsed": false
   },
   "outputs": [
    {
     "name": "stdout",
     "output_type": "stream",
     "text": [
      "Number of distinct values: 669\n"
     ]
    },
    {
     "data": {
      "text/html": [
       "<div>\n",
       "<table border=\"1\" class=\"dataframe\">\n",
       "  <thead>\n",
       "    <tr style=\"text-align: right;\">\n",
       "      <th></th>\n",
       "      <th>sp</th>\n",
       "    </tr>\n",
       "    <tr>\n",
       "      <th>c</th>\n",
       "      <th></th>\n",
       "    </tr>\n",
       "  </thead>\n",
       "  <tbody>\n",
       "    <tr>\n",
       "      <th>Rolling Hills</th>\n",
       "      <td>1.257245e+06</td>\n",
       "    </tr>\n",
       "    <tr>\n",
       "      <th>Hidden Hills</th>\n",
       "      <td>1.257245e+06</td>\n",
       "    </tr>\n",
       "    <tr>\n",
       "      <th>San Marino</th>\n",
       "      <td>1.240516e+06</td>\n",
       "    </tr>\n",
       "    <tr>\n",
       "      <th>Manhattan Beach</th>\n",
       "      <td>1.182741e+06</td>\n",
       "    </tr>\n",
       "    <tr>\n",
       "      <th>Palos Verdes Estates</th>\n",
       "      <td>1.176108e+06</td>\n",
       "    </tr>\n",
       "    <tr>\n",
       "      <th>Newport Coast</th>\n",
       "      <td>1.165134e+06</td>\n",
       "    </tr>\n",
       "    <tr>\n",
       "      <th>Malibu</th>\n",
       "      <td>1.149637e+06</td>\n",
       "    </tr>\n",
       "    <tr>\n",
       "      <th>Laguna Beach</th>\n",
       "      <td>1.129763e+06</td>\n",
       "    </tr>\n",
       "    <tr>\n",
       "      <th>Quogue</th>\n",
       "      <td>1.117880e+06</td>\n",
       "    </tr>\n",
       "    <tr>\n",
       "      <th>Plandome</th>\n",
       "      <td>1.117880e+06</td>\n",
       "    </tr>\n",
       "    <tr>\n",
       "      <th>Matinecock</th>\n",
       "      <td>1.117880e+06</td>\n",
       "    </tr>\n",
       "    <tr>\n",
       "      <th>Muttontown</th>\n",
       "      <td>1.117880e+06</td>\n",
       "    </tr>\n",
       "    <tr>\n",
       "      <th>Brookville</th>\n",
       "      <td>1.117880e+06</td>\n",
       "    </tr>\n",
       "    <tr>\n",
       "      <th>Centre Island</th>\n",
       "      <td>1.117880e+06</td>\n",
       "    </tr>\n",
       "    <tr>\n",
       "      <th>Plandome Manor</th>\n",
       "      <td>1.117880e+06</td>\n",
       "    </tr>\n",
       "    <tr>\n",
       "      <th>Old Brookville</th>\n",
       "      <td>1.110728e+06</td>\n",
       "    </tr>\n",
       "    <tr>\n",
       "      <th>Palos Verdes Peninsula</th>\n",
       "      <td>1.109406e+06</td>\n",
       "    </tr>\n",
       "    <tr>\n",
       "      <th>Rolling Hills Estates</th>\n",
       "      <td>1.102555e+06</td>\n",
       "    </tr>\n",
       "    <tr>\n",
       "      <th>La Canada Flintridge</th>\n",
       "      <td>1.102320e+06</td>\n",
       "    </tr>\n",
       "    <tr>\n",
       "      <th>Water Mill</th>\n",
       "      <td>1.078234e+06</td>\n",
       "    </tr>\n",
       "    <tr>\n",
       "      <th>Plandome Heights</th>\n",
       "      <td>1.075254e+06</td>\n",
       "    </tr>\n",
       "    <tr>\n",
       "      <th>Lloyd Harbor</th>\n",
       "      <td>1.068770e+06</td>\n",
       "    </tr>\n",
       "    <tr>\n",
       "      <th>Upper Brookville</th>\n",
       "      <td>1.066754e+06</td>\n",
       "    </tr>\n",
       "    <tr>\n",
       "      <th>Hermosa Beach</th>\n",
       "      <td>1.066592e+06</td>\n",
       "    </tr>\n",
       "    <tr>\n",
       "      <th>Rancho Palos Verdes</th>\n",
       "      <td>1.051721e+06</td>\n",
       "    </tr>\n",
       "    <tr>\n",
       "      <th>Loch Arbour</th>\n",
       "      <td>1.050000e+06</td>\n",
       "    </tr>\n",
       "    <tr>\n",
       "      <th>Manhasset</th>\n",
       "      <td>1.049881e+06</td>\n",
       "    </tr>\n",
       "    <tr>\n",
       "      <th>Saddle River</th>\n",
       "      <td>1.044626e+06</td>\n",
       "    </tr>\n",
       "    <tr>\n",
       "      <th>North Haven</th>\n",
       "      <td>1.041920e+06</td>\n",
       "    </tr>\n",
       "    <tr>\n",
       "      <th>Newport Beach</th>\n",
       "      <td>1.037815e+06</td>\n",
       "    </tr>\n",
       "    <tr>\n",
       "      <th>...</th>\n",
       "      <td>...</td>\n",
       "    </tr>\n",
       "    <tr>\n",
       "      <th>Reno</th>\n",
       "      <td>9.750000e+04</td>\n",
       "    </tr>\n",
       "    <tr>\n",
       "      <th>Balch Springs</th>\n",
       "      <td>9.653908e+04</td>\n",
       "    </tr>\n",
       "    <tr>\n",
       "      <th>Alvord</th>\n",
       "      <td>9.585000e+04</td>\n",
       "    </tr>\n",
       "    <tr>\n",
       "      <th>Keene</th>\n",
       "      <td>9.566667e+04</td>\n",
       "    </tr>\n",
       "    <tr>\n",
       "      <th>Hutchins</th>\n",
       "      <td>9.566667e+04</td>\n",
       "    </tr>\n",
       "    <tr>\n",
       "      <th>West Tawakoni</th>\n",
       "      <td>9.233333e+04</td>\n",
       "    </tr>\n",
       "    <tr>\n",
       "      <th>Lake Worth</th>\n",
       "      <td>9.150000e+04</td>\n",
       "    </tr>\n",
       "    <tr>\n",
       "      <th>McCullom Lake</th>\n",
       "      <td>9.000000e+04</td>\n",
       "    </tr>\n",
       "    <tr>\n",
       "      <th>Round Lake Park</th>\n",
       "      <td>8.955833e+04</td>\n",
       "    </tr>\n",
       "    <tr>\n",
       "      <th>Westworth Village</th>\n",
       "      <td>8.735000e+04</td>\n",
       "    </tr>\n",
       "    <tr>\n",
       "      <th>Park Forest</th>\n",
       "      <td>8.703571e+04</td>\n",
       "    </tr>\n",
       "    <tr>\n",
       "      <th>Sansom Park</th>\n",
       "      <td>8.672500e+04</td>\n",
       "    </tr>\n",
       "    <tr>\n",
       "      <th>River Oaks</th>\n",
       "      <td>8.663462e+04</td>\n",
       "    </tr>\n",
       "    <tr>\n",
       "      <th>Sauk Village</th>\n",
       "      <td>8.658333e+04</td>\n",
       "    </tr>\n",
       "    <tr>\n",
       "      <th>Forest Hill</th>\n",
       "      <td>8.471545e+04</td>\n",
       "    </tr>\n",
       "    <tr>\n",
       "      <th>Roselawn</th>\n",
       "      <td>8.400000e+04</td>\n",
       "    </tr>\n",
       "    <tr>\n",
       "      <th>Italy</th>\n",
       "      <td>8.387500e+04</td>\n",
       "    </tr>\n",
       "    <tr>\n",
       "      <th>Wills Point</th>\n",
       "      <td>8.260000e+04</td>\n",
       "    </tr>\n",
       "    <tr>\n",
       "      <th>Cooper</th>\n",
       "      <td>8.121500e+04</td>\n",
       "    </tr>\n",
       "    <tr>\n",
       "      <th>Lone Oak</th>\n",
       "      <td>8.098750e+04</td>\n",
       "    </tr>\n",
       "    <tr>\n",
       "      <th>Burnham</th>\n",
       "      <td>8.000000e+04</td>\n",
       "    </tr>\n",
       "    <tr>\n",
       "      <th>Blue Mound</th>\n",
       "      <td>7.850000e+04</td>\n",
       "    </tr>\n",
       "    <tr>\n",
       "      <th>East Chicago</th>\n",
       "      <td>7.500000e+04</td>\n",
       "    </tr>\n",
       "    <tr>\n",
       "      <th>Everman</th>\n",
       "      <td>6.692067e+04</td>\n",
       "    </tr>\n",
       "    <tr>\n",
       "      <th>Goodland</th>\n",
       "      <td>6.500000e+04</td>\n",
       "    </tr>\n",
       "    <tr>\n",
       "      <th>Morocco</th>\n",
       "      <td>6.275000e+04</td>\n",
       "    </tr>\n",
       "    <tr>\n",
       "      <th>Hawk Cove</th>\n",
       "      <td>6.100000e+04</td>\n",
       "    </tr>\n",
       "    <tr>\n",
       "      <th>Marshall Creek</th>\n",
       "      <td>5.950000e+04</td>\n",
       "    </tr>\n",
       "    <tr>\n",
       "      <th>Pelican Bay</th>\n",
       "      <td>5.666667e+04</td>\n",
       "    </tr>\n",
       "    <tr>\n",
       "      <th>North Chicago</th>\n",
       "      <td>4.890000e+04</td>\n",
       "    </tr>\n",
       "  </tbody>\n",
       "</table>\n",
       "<p>1344 rows × 1 columns</p>\n",
       "</div>"
      ],
      "text/plain": [
       "                                  sp\n",
       "c                                   \n",
       "Rolling Hills           1.257245e+06\n",
       "Hidden Hills            1.257245e+06\n",
       "San Marino              1.240516e+06\n",
       "Manhattan Beach         1.182741e+06\n",
       "Palos Verdes Estates    1.176108e+06\n",
       "Newport Coast           1.165134e+06\n",
       "Malibu                  1.149637e+06\n",
       "Laguna Beach            1.129763e+06\n",
       "Quogue                  1.117880e+06\n",
       "Plandome                1.117880e+06\n",
       "Matinecock              1.117880e+06\n",
       "Muttontown              1.117880e+06\n",
       "Brookville              1.117880e+06\n",
       "Centre Island           1.117880e+06\n",
       "Plandome Manor          1.117880e+06\n",
       "Old Brookville          1.110728e+06\n",
       "Palos Verdes Peninsula  1.109406e+06\n",
       "Rolling Hills Estates   1.102555e+06\n",
       "La Canada Flintridge    1.102320e+06\n",
       "Water Mill              1.078234e+06\n",
       "Plandome Heights        1.075254e+06\n",
       "Lloyd Harbor            1.068770e+06\n",
       "Upper Brookville        1.066754e+06\n",
       "Hermosa Beach           1.066592e+06\n",
       "Rancho Palos Verdes     1.051721e+06\n",
       "Loch Arbour             1.050000e+06\n",
       "Manhasset               1.049881e+06\n",
       "Saddle River            1.044626e+06\n",
       "North Haven             1.041920e+06\n",
       "Newport Beach           1.037815e+06\n",
       "...                              ...\n",
       "Reno                    9.750000e+04\n",
       "Balch Springs           9.653908e+04\n",
       "Alvord                  9.585000e+04\n",
       "Keene                   9.566667e+04\n",
       "Hutchins                9.566667e+04\n",
       "West Tawakoni           9.233333e+04\n",
       "Lake Worth              9.150000e+04\n",
       "McCullom Lake           9.000000e+04\n",
       "Round Lake Park         8.955833e+04\n",
       "Westworth Village       8.735000e+04\n",
       "Park Forest             8.703571e+04\n",
       "Sansom Park             8.672500e+04\n",
       "River Oaks              8.663462e+04\n",
       "Sauk Village            8.658333e+04\n",
       "Forest Hill             8.471545e+04\n",
       "Roselawn                8.400000e+04\n",
       "Italy                   8.387500e+04\n",
       "Wills Point             8.260000e+04\n",
       "Cooper                  8.121500e+04\n",
       "Lone Oak                8.098750e+04\n",
       "Burnham                 8.000000e+04\n",
       "Blue Mound              7.850000e+04\n",
       "East Chicago            7.500000e+04\n",
       "Everman                 6.692067e+04\n",
       "Goodland                6.500000e+04\n",
       "Morocco                 6.275000e+04\n",
       "Hawk Cove               6.100000e+04\n",
       "Marshall Creek          5.950000e+04\n",
       "Pelican Bay             5.666667e+04\n",
       "North Chicago           4.890000e+04\n",
       "\n",
       "[1344 rows x 1 columns]"
      ]
     },
     "execution_count": 233,
     "metadata": {},
     "output_type": "execute_result"
    }
   ],
   "source": [
    "d_ = {'c': c, 'sp': [float(x) for x in sp]}\n",
    "df_ = pd.DataFrame(d_).groupby(['c']).mean()\n",
    "print('Number of distinct values:', len(df))\n",
    "df_.sort_values(by = 'sp',ascending = False)"
   ]
  },
  {
   "cell_type": "code",
   "execution_count": 46,
   "metadata": {
    "collapsed": false
   },
   "outputs": [
    {
     "name": "stdout",
     "output_type": "stream",
     "text": [
      "Number of distinct values: 669\n"
     ]
    },
    {
     "data": {
      "text/html": [
       "<div>\n",
       "<table border=\"1\" class=\"dataframe\">\n",
       "  <thead>\n",
       "    <tr style=\"text-align: right;\">\n",
       "      <th></th>\n",
       "      <th>sp</th>\n",
       "    </tr>\n",
       "    <tr>\n",
       "      <th>hs</th>\n",
       "      <th></th>\n",
       "    </tr>\n",
       "  </thead>\n",
       "  <tbody>\n",
       "    <tr>\n",
       "      <th>San Marino High School</th>\n",
       "      <td>1.234213e+06</td>\n",
       "    </tr>\n",
       "    <tr>\n",
       "      <th>Palisades Charter High School</th>\n",
       "      <td>1.205646e+06</td>\n",
       "    </tr>\n",
       "    <tr>\n",
       "      <th>Mira Costa High School</th>\n",
       "      <td>1.183245e+06</td>\n",
       "    </tr>\n",
       "    <tr>\n",
       "      <th>Malibu High School</th>\n",
       "      <td>1.150812e+06</td>\n",
       "    </tr>\n",
       "    <tr>\n",
       "      <th>La Canada High School</th>\n",
       "      <td>1.119675e+06</td>\n",
       "    </tr>\n",
       "    <tr>\n",
       "      <th>Corona Del Mar High School</th>\n",
       "      <td>1.092364e+06</td>\n",
       "    </tr>\n",
       "    <tr>\n",
       "      <th>Bridgehampton School</th>\n",
       "      <td>1.033940e+06</td>\n",
       "    </tr>\n",
       "    <tr>\n",
       "      <th>Serrano High School</th>\n",
       "      <td>1.016283e+06</td>\n",
       "    </tr>\n",
       "    <tr>\n",
       "      <th>Venice Senior High School</th>\n",
       "      <td>9.660435e+05</td>\n",
       "    </tr>\n",
       "    <tr>\n",
       "      <th>Southampton High School</th>\n",
       "      <td>9.657614e+05</td>\n",
       "    </tr>\n",
       "    <tr>\n",
       "      <th>Bronxville High School</th>\n",
       "      <td>9.655859e+05</td>\n",
       "    </tr>\n",
       "    <tr>\n",
       "      <th>Byram Hills High School</th>\n",
       "      <td>9.486638e+05</td>\n",
       "    </tr>\n",
       "    <tr>\n",
       "      <th>Beverly Hills High School</th>\n",
       "      <td>9.371857e+05</td>\n",
       "    </tr>\n",
       "    <tr>\n",
       "      <th>Indian Hills West Continuation High School</th>\n",
       "      <td>9.365842e+05</td>\n",
       "    </tr>\n",
       "    <tr>\n",
       "      <th>Newport Harbor High School</th>\n",
       "      <td>9.340559e+05</td>\n",
       "    </tr>\n",
       "    <tr>\n",
       "      <th>West Ranch High School</th>\n",
       "      <td>9.246429e+05</td>\n",
       "    </tr>\n",
       "    <tr>\n",
       "      <th>Santa Monica High School</th>\n",
       "      <td>9.221720e+05</td>\n",
       "    </tr>\n",
       "    <tr>\n",
       "      <th>Arcadia High School</th>\n",
       "      <td>9.146933e+05</td>\n",
       "    </tr>\n",
       "    <tr>\n",
       "      <th>East Hampton High School</th>\n",
       "      <td>9.118476e+05</td>\n",
       "    </tr>\n",
       "    <tr>\n",
       "      <th>Pierson Middle High School</th>\n",
       "      <td>9.006118e+05</td>\n",
       "    </tr>\n",
       "    <tr>\n",
       "      <th>Irvington High School</th>\n",
       "      <td>8.986083e+05</td>\n",
       "    </tr>\n",
       "    <tr>\n",
       "      <th>South High School</th>\n",
       "      <td>8.785889e+05</td>\n",
       "    </tr>\n",
       "    <tr>\n",
       "      <th>Alexander Hamilton Senior High School</th>\n",
       "      <td>8.771467e+05</td>\n",
       "    </tr>\n",
       "    <tr>\n",
       "      <th>John Marshall Senior High School</th>\n",
       "      <td>8.546382e+05</td>\n",
       "    </tr>\n",
       "    <tr>\n",
       "      <th>Great Neck North High School</th>\n",
       "      <td>8.530369e+05</td>\n",
       "    </tr>\n",
       "    <tr>\n",
       "      <th>Hollywood Senior High School</th>\n",
       "      <td>8.501299e+05</td>\n",
       "    </tr>\n",
       "    <tr>\n",
       "      <th>Wheatley School</th>\n",
       "      <td>8.350171e+05</td>\n",
       "    </tr>\n",
       "    <tr>\n",
       "      <th>Fairfax Senior High School</th>\n",
       "      <td>8.333467e+05</td>\n",
       "    </tr>\n",
       "    <tr>\n",
       "      <th>Blind Brook High School</th>\n",
       "      <td>8.214340e+05</td>\n",
       "    </tr>\n",
       "    <tr>\n",
       "      <th>University Senior High School</th>\n",
       "      <td>8.114876e+05</td>\n",
       "    </tr>\n",
       "    <tr>\n",
       "      <th>...</th>\n",
       "      <td>...</td>\n",
       "    </tr>\n",
       "    <tr>\n",
       "      <th>Lone Oak High School</th>\n",
       "      <td>1.020141e+05</td>\n",
       "    </tr>\n",
       "    <tr>\n",
       "      <th>Seagoville High School</th>\n",
       "      <td>1.011165e+05</td>\n",
       "    </tr>\n",
       "    <tr>\n",
       "      <th>Donald E Gavit Mdl/High School</th>\n",
       "      <td>1.000311e+05</td>\n",
       "    </tr>\n",
       "    <tr>\n",
       "      <th>Venus High School</th>\n",
       "      <td>9.991429e+04</td>\n",
       "    </tr>\n",
       "    <tr>\n",
       "      <th>West Mesquite High School</th>\n",
       "      <td>9.674096e+04</td>\n",
       "    </tr>\n",
       "    <tr>\n",
       "      <th>Alvord High School</th>\n",
       "      <td>9.585000e+04</td>\n",
       "    </tr>\n",
       "    <tr>\n",
       "      <th>Keene Wanda R Smith High School</th>\n",
       "      <td>9.566667e+04</td>\n",
       "    </tr>\n",
       "    <tr>\n",
       "      <th>Peaster High School</th>\n",
       "      <td>9.500000e+04</td>\n",
       "    </tr>\n",
       "    <tr>\n",
       "      <th>Wh Ford High School</th>\n",
       "      <td>9.369786e+04</td>\n",
       "    </tr>\n",
       "    <tr>\n",
       "      <th>Moises E Molina High School</th>\n",
       "      <td>9.272115e+04</td>\n",
       "    </tr>\n",
       "    <tr>\n",
       "      <th>Sam Houston High School</th>\n",
       "      <td>9.149098e+04</td>\n",
       "    </tr>\n",
       "    <tr>\n",
       "      <th>Farragut Career Academy High School</th>\n",
       "      <td>9.000000e+04</td>\n",
       "    </tr>\n",
       "    <tr>\n",
       "      <th>Everman High School</th>\n",
       "      <td>8.866979e+04</td>\n",
       "    </tr>\n",
       "    <tr>\n",
       "      <th>Godley High School</th>\n",
       "      <td>8.800000e+04</td>\n",
       "    </tr>\n",
       "    <tr>\n",
       "      <th>O D Wyatt High School</th>\n",
       "      <td>8.654104e+04</td>\n",
       "    </tr>\n",
       "    <tr>\n",
       "      <th>Castleberry High School</th>\n",
       "      <td>8.613412e+04</td>\n",
       "    </tr>\n",
       "    <tr>\n",
       "      <th>Italy High School</th>\n",
       "      <td>8.387500e+04</td>\n",
       "    </tr>\n",
       "    <tr>\n",
       "      <th>Rich East Campus High School</th>\n",
       "      <td>8.291667e+04</td>\n",
       "    </tr>\n",
       "    <tr>\n",
       "      <th>Lincoln Humanities/Communications</th>\n",
       "      <td>8.258750e+04</td>\n",
       "    </tr>\n",
       "    <tr>\n",
       "      <th>Cooper High School</th>\n",
       "      <td>8.121500e+04</td>\n",
       "    </tr>\n",
       "    <tr>\n",
       "      <th>Diamond Hill-Jarvis High School</th>\n",
       "      <td>8.050000e+04</td>\n",
       "    </tr>\n",
       "    <tr>\n",
       "      <th>H Grady Spruce High School</th>\n",
       "      <td>7.646444e+04</td>\n",
       "    </tr>\n",
       "    <tr>\n",
       "      <th>South Oak Cliff High School</th>\n",
       "      <td>7.586048e+04</td>\n",
       "    </tr>\n",
       "    <tr>\n",
       "      <th>W W Samuell High School</th>\n",
       "      <td>7.377134e+04</td>\n",
       "    </tr>\n",
       "    <tr>\n",
       "      <th>Hammond High School</th>\n",
       "      <td>6.600000e+04</td>\n",
       "    </tr>\n",
       "    <tr>\n",
       "      <th>South Newton Senior High School</th>\n",
       "      <td>6.500000e+04</td>\n",
       "    </tr>\n",
       "    <tr>\n",
       "      <th>North Side High School</th>\n",
       "      <td>6.494444e+04</td>\n",
       "    </tr>\n",
       "    <tr>\n",
       "      <th>George Rogers Clark Md/High School</th>\n",
       "      <td>6.436667e+04</td>\n",
       "    </tr>\n",
       "    <tr>\n",
       "      <th>Dunbar High School</th>\n",
       "      <td>5.645000e+04</td>\n",
       "    </tr>\n",
       "    <tr>\n",
       "      <th>World Language High School</th>\n",
       "      <td>4.000000e+04</td>\n",
       "    </tr>\n",
       "  </tbody>\n",
       "</table>\n",
       "<p>669 rows × 1 columns</p>\n",
       "</div>"
      ],
      "text/plain": [
       "                                                      sp\n",
       "hs                                                      \n",
       "San Marino High School                      1.234213e+06\n",
       "Palisades Charter High School               1.205646e+06\n",
       "Mira Costa High School                      1.183245e+06\n",
       "Malibu High School                          1.150812e+06\n",
       "La Canada High School                       1.119675e+06\n",
       "Corona Del Mar High School                  1.092364e+06\n",
       "Bridgehampton School                        1.033940e+06\n",
       "Serrano High School                         1.016283e+06\n",
       "Venice Senior High School                   9.660435e+05\n",
       "Southampton High School                     9.657614e+05\n",
       "Bronxville High School                      9.655859e+05\n",
       "Byram Hills High School                     9.486638e+05\n",
       "Beverly Hills High School                   9.371857e+05\n",
       "Indian Hills West Continuation High School  9.365842e+05\n",
       "Newport Harbor High School                  9.340559e+05\n",
       "West Ranch High School                      9.246429e+05\n",
       "Santa Monica High School                    9.221720e+05\n",
       "Arcadia High School                         9.146933e+05\n",
       "East Hampton High School                    9.118476e+05\n",
       "Pierson Middle High School                  9.006118e+05\n",
       "Irvington High School                       8.986083e+05\n",
       "South High School                           8.785889e+05\n",
       "Alexander Hamilton Senior High School       8.771467e+05\n",
       "John Marshall Senior High School            8.546382e+05\n",
       "Great Neck North High School                8.530369e+05\n",
       "Hollywood Senior High School                8.501299e+05\n",
       "Wheatley School                             8.350171e+05\n",
       "Fairfax Senior High School                  8.333467e+05\n",
       "Blind Brook High School                     8.214340e+05\n",
       "University Senior High School               8.114876e+05\n",
       "...                                                  ...\n",
       "Lone Oak High School                        1.020141e+05\n",
       "Seagoville High School                      1.011165e+05\n",
       "Donald E Gavit Mdl/High School              1.000311e+05\n",
       "Venus High School                           9.991429e+04\n",
       "West Mesquite High School                   9.674096e+04\n",
       "Alvord High School                          9.585000e+04\n",
       "Keene Wanda R Smith High School             9.566667e+04\n",
       "Peaster High School                         9.500000e+04\n",
       "Wh Ford High School                         9.369786e+04\n",
       "Moises E Molina High School                 9.272115e+04\n",
       "Sam Houston High School                     9.149098e+04\n",
       "Farragut Career Academy High School         9.000000e+04\n",
       "Everman High School                         8.866979e+04\n",
       "Godley High School                          8.800000e+04\n",
       "O D Wyatt High School                       8.654104e+04\n",
       "Castleberry High School                     8.613412e+04\n",
       "Italy High School                           8.387500e+04\n",
       "Rich East Campus High School                8.291667e+04\n",
       "Lincoln Humanities/Communications           8.258750e+04\n",
       "Cooper High School                          8.121500e+04\n",
       "Diamond Hill-Jarvis High School             8.050000e+04\n",
       "H Grady Spruce High School                  7.646444e+04\n",
       "South Oak Cliff High School                 7.586048e+04\n",
       "W W Samuell High School                     7.377134e+04\n",
       "Hammond High School                         6.600000e+04\n",
       "South Newton Senior High School             6.500000e+04\n",
       "North Side High School                      6.494444e+04\n",
       "George Rogers Clark Md/High School          6.436667e+04\n",
       "Dunbar High School                          5.645000e+04\n",
       "World Language High School                  4.000000e+04\n",
       "\n",
       "[669 rows x 1 columns]"
      ]
     },
     "execution_count": 46,
     "metadata": {},
     "output_type": "execute_result"
    }
   ],
   "source": [
    "d = {'hs': hs, 'sp': [float(x) for x in sp]}\n",
    "df = pd.DataFrame(d).groupby(['hs']).mean()\n",
    "print('Number of distinct values:', len(df))\n",
    "df.sort_values(by = 'sp',ascending = False)"
   ]
  },
  {
   "cell_type": "markdown",
   "metadata": {},
   "source": [
    "For categorical variables, we could observe the number of distinct values and the average sales price against different values of the variables."
   ]
  },
  {
   "cell_type": "markdown",
   "metadata": {},
   "source": [
    "# (b)\n",
    "Build random forest models to predict SalePrice from the other covariates.\n",
    "\n",
    "First, convert categorical values to numerical labels."
   ]
  },
  {
   "cell_type": "code",
   "execution_count": 51,
   "metadata": {
    "collapsed": false
   },
   "outputs": [],
   "source": [
    "le_msa = preprocessing.LabelEncoder()\n",
    "msa_l =le_msa.fit_transform(msa)\n",
    "\n",
    "le_c = preprocessing.LabelEncoder()\n",
    "c_l =le_c.fit_transform(c)\n",
    "\n",
    "le_hs = preprocessing.LabelEncoder()\n",
    "hs_l =le_hs.fit_transform(hs)"
   ]
  },
  {
   "cell_type": "code",
   "execution_count": 186,
   "metadata": {
    "collapsed": false
   },
   "outputs": [],
   "source": [
    "trainDF = trainData.toPandas()"
   ]
  },
  {
   "cell_type": "markdown",
   "metadata": {},
   "source": [
    "## First attempt: \n",
    "- convert categorical data to labels\n",
    "- remove original categorical variables\n",
    "- remove 'MajorRenov', 'ID', 'Lat', 'Long'\n",
    "- change None/NA values of builtyear and builtdecade to 0"
   ]
  },
  {
   "cell_type": "code",
   "execution_count": 188,
   "metadata": {
    "collapsed": false
   },
   "outputs": [],
   "source": [
    "trainDF_1 = trainDF.drop(cate_cols+['MajorRenov', 'ID', 'Lat', 'Long'], 1)\n",
    "trainDF_1['msa_l'] = msa_l\n",
    "trainDF_1['c_l'] = c_l\n",
    "trainDF_1['hs_l'] = hs_l\n",
    "trainDF_1['BuiltYear'] = trainDF_1['BuiltYear'].apply(lambda x: 0 if x== 'NA' else x)\n",
    "trainDF_1['BuildDecade'] = trainDF_1['BuildDecade'].apply(lambda x: 0 if x.isdigit()== False else x)"
   ]
  },
  {
   "cell_type": "code",
   "execution_count": 80,
   "metadata": {
    "collapsed": false
   },
   "outputs": [],
   "source": [
    "# Split the data into training and test sets (30% held out for testing)\n",
    "train, test = train_test_split(trainDF_1, test_size = 0.3)"
   ]
  },
  {
   "cell_type": "code",
   "execution_count": 122,
   "metadata": {
    "collapsed": false
   },
   "outputs": [],
   "source": [
    "y_train = list(train['SalePrice'].apply(lambda x: float(x)))\n",
    "y_test = list(test['SalePrice'].apply(lambda x: float(x)))"
   ]
  },
  {
   "cell_type": "code",
   "execution_count": 139,
   "metadata": {
    "collapsed": false
   },
   "outputs": [],
   "source": [
    "l = list(np.arange(8))+[9,10,11]\n",
    "X_train = train[l]\n",
    "X_test = test[l]"
   ]
  },
  {
   "cell_type": "code",
   "execution_count": 124,
   "metadata": {
    "collapsed": true
   },
   "outputs": [],
   "source": [
    "clf_1 = RandomForestRegressor(max_depth= 30, random_state=0)\n",
    "clf_1.fit(X_train, y_train)\n",
    "y_predict = clf_1.predict(X_test)"
   ]
  },
  {
   "cell_type": "code",
   "execution_count": 125,
   "metadata": {
    "collapsed": false
   },
   "outputs": [
    {
     "data": {
      "text/plain": [
       "188554945.45078951"
      ]
     },
     "execution_count": 125,
     "metadata": {},
     "output_type": "execute_result"
    }
   ],
   "source": [
    "mean_squared_error(y_test, y_predict)"
   ]
  },
  {
   "cell_type": "code",
   "execution_count": 267,
   "metadata": {
    "collapsed": false
   },
   "outputs": [
    {
     "data": {
      "text/plain": [
       "9011.259513808729"
      ]
     },
     "execution_count": 267,
     "metadata": {},
     "output_type": "execute_result"
    }
   ],
   "source": [
    "mean_absolute_error(y_test, y_predict)"
   ]
  },
  {
   "cell_type": "markdown",
   "metadata": {},
   "source": [
    "## Second attempt: \n",
    "- convert categorical data to labels\n",
    "- remove original categorical variables\n",
    "- remove 'MajorRenov', 'ID', 'Lat', 'Long'\n",
    "- remove builtyear and builtdecade"
   ]
  },
  {
   "cell_type": "code",
   "execution_count": 126,
   "metadata": {
    "collapsed": false
   },
   "outputs": [],
   "source": [
    "X_train_2 = X_train.drop(['BuiltYear', 'BuildDecade'], 1)\n",
    "X_test_2 = X_test.drop(['BuiltYear', 'BuildDecade'], 1)"
   ]
  },
  {
   "cell_type": "code",
   "execution_count": 130,
   "metadata": {
    "collapsed": false
   },
   "outputs": [],
   "source": [
    "clf_2 = RandomForestRegressor(max_depth= 30, random_state=0)\n",
    "clf_2.fit(X_train_2, y_train)\n",
    "y_predict_2 = clf_2.predict(X_test_2)"
   ]
  },
  {
   "cell_type": "code",
   "execution_count": 131,
   "metadata": {
    "collapsed": false
   },
   "outputs": [
    {
     "data": {
      "text/plain": [
       "190366535.24263892"
      ]
     },
     "execution_count": 131,
     "metadata": {},
     "output_type": "execute_result"
    }
   ],
   "source": [
    "mean_squared_error(y_test, y_predict_2)"
   ]
  },
  {
   "cell_type": "code",
   "execution_count": 266,
   "metadata": {
    "collapsed": false
   },
   "outputs": [
    {
     "data": {
      "text/plain": [
       "9066.5021286474803"
      ]
     },
     "execution_count": 266,
     "metadata": {},
     "output_type": "execute_result"
    }
   ],
   "source": [
    "mean_absolute_error(y_test, y_predict_2)"
   ]
  },
  {
   "cell_type": "markdown",
   "metadata": {},
   "source": [
    "## Third attempt: \n",
    "- only using numerical variables\n",
    "- remove all the rows with missing value"
   ]
  },
  {
   "cell_type": "code",
   "execution_count": 162,
   "metadata": {
    "collapsed": true
   },
   "outputs": [],
   "source": [
    "trainDF_3 = trainDF.drop(['msa_l', 'c_l', 'hs_l'],1).loc[(trainDF['BuiltYear'] != 0)].loc[(trainDF['BuildDecade'] != 0)]"
   ]
  },
  {
   "cell_type": "code",
   "execution_count": 171,
   "metadata": {
    "collapsed": true
   },
   "outputs": [],
   "source": [
    "train_3, test_3 = train_test_split(trainDF_3, test_size = 0.3)\n",
    "y_train_3 = list(train_3['SalePrice'].apply(lambda x: float(x)))\n",
    "y_test_3 = list(test_3['SalePrice'].apply(lambda x: float(x)))\n",
    "X_train_3 = train_3.iloc[:,:-1]\n",
    "X_test_3 = test_3.iloc[:,:-1]"
   ]
  },
  {
   "cell_type": "code",
   "execution_count": 184,
   "metadata": {
    "collapsed": false
   },
   "outputs": [],
   "source": [
    "clf_3 = RandomForestRegressor(max_depth= 30, random_state=0)\n",
    "clf_3.fit(X_train_3, y_train_3)\n",
    "y_predict_3 = clf_3.predict(X_test_3)"
   ]
  },
  {
   "cell_type": "code",
   "execution_count": 185,
   "metadata": {
    "collapsed": false
   },
   "outputs": [
    {
     "data": {
      "text/plain": [
       "205823406.80944395"
      ]
     },
     "execution_count": 185,
     "metadata": {},
     "output_type": "execute_result"
    }
   ],
   "source": [
    "mean_squared_error(y_test_3, y_predict_3)"
   ]
  },
  {
   "cell_type": "code",
   "execution_count": 265,
   "metadata": {
    "collapsed": false
   },
   "outputs": [
    {
     "data": {
      "text/plain": [
       "9477.4187783771285"
      ]
     },
     "execution_count": 265,
     "metadata": {},
     "output_type": "execute_result"
    }
   ],
   "source": [
    "mean_absolute_error(y_test_3, y_predict_3)"
   ]
  },
  {
   "cell_type": "markdown",
   "metadata": {},
   "source": [
    "## Fourth attempt\n",
    "- convert categorical data to labels\n",
    "- remove original categorical variables\n",
    "- remove 'ID'\n",
    "- change None/NA values of 'MajorRenov', builtyear and builtdecade to 0"
   ]
  },
  {
   "cell_type": "code",
   "execution_count": 191,
   "metadata": {
    "collapsed": true
   },
   "outputs": [],
   "source": [
    "trainDF_4 = trainDF.drop(cate_cols+['ID'], 1)"
   ]
  },
  {
   "cell_type": "code",
   "execution_count": 192,
   "metadata": {
    "collapsed": true
   },
   "outputs": [],
   "source": [
    "trainDF_4['msa_l'] = msa_l\n",
    "trainDF_4['c_l'] = c_l\n",
    "trainDF_4['hs_l'] = hs_l\n",
    "trainDF_4['BuiltYear'] = trainDF_4['BuiltYear'].apply(lambda x: 0 if x== 'NA' else x)\n",
    "trainDF_4['BuildDecade'] = trainDF_4['BuildDecade'].apply(lambda x: 0 if x.isdigit()== False else x)"
   ]
  },
  {
   "cell_type": "code",
   "execution_count": 193,
   "metadata": {
    "collapsed": true
   },
   "outputs": [],
   "source": [
    "trainDF_4['MajorRenov' ] = trainDF_4['MajorRenov' ].apply(lambda x: 0 if x.isdigit()== False else x)"
   ]
  },
  {
   "cell_type": "code",
   "execution_count": 194,
   "metadata": {
    "collapsed": true
   },
   "outputs": [],
   "source": [
    "train_4, test_4 = train_test_split(trainDF_4, test_size = 0.3)"
   ]
  },
  {
   "cell_type": "code",
   "execution_count": 223,
   "metadata": {
    "collapsed": true
   },
   "outputs": [],
   "source": [
    "y_train_4 = list(train_4['SalePrice'].apply(lambda x: float(x)))\n",
    "y_test_4 = list(test_4['SalePrice'].apply(lambda x: float(x)))"
   ]
  },
  {
   "cell_type": "code",
   "execution_count": 205,
   "metadata": {
    "collapsed": false
   },
   "outputs": [],
   "source": [
    "l = list(np.arange(11))+[12,13,14]\n",
    "X_train_4 = train_4[l]\n",
    "X_test_4 = test_4[l]"
   ]
  },
  {
   "cell_type": "code",
   "execution_count": 206,
   "metadata": {
    "collapsed": false
   },
   "outputs": [
    {
     "data": {
      "text/plain": [
       "182341555.5115681"
      ]
     },
     "execution_count": 206,
     "metadata": {},
     "output_type": "execute_result"
    }
   ],
   "source": [
    "clf_4 = RandomForestRegressor(max_depth= 30, random_state=0)\n",
    "clf_4.fit(X_train_4, y_train_4)\n",
    "y_predict_4 = clf_4.predict(X_test_4)\n",
    "mean_squared_error(y_test_4, y_predict_4)"
   ]
  },
  {
   "cell_type": "code",
   "execution_count": 264,
   "metadata": {
    "collapsed": false
   },
   "outputs": [
    {
     "data": {
      "text/plain": [
       "8903.1081355505557"
      ]
     },
     "execution_count": 264,
     "metadata": {},
     "output_type": "execute_result"
    }
   ],
   "source": [
    "mean_absolute_error(y_test_4, y_predict_4)"
   ]
  },
  {
   "cell_type": "markdown",
   "metadata": {},
   "source": [
    "After comparing all attempts, the last one gives us the smallest mean squared error, so we'll use this classifier to predict sales prices.\n",
    "\n",
    "This one works the best because it uses the largest number of variables. I dropped 'Lat' and 'Long' of the observations because I thought that the city variable already provides us with significant information, but apparently the precise information on the location of the properties is very crucial. Besides, I didn't think that majorrenovation would help because there are many missing data; however, it appears that despite the number of missing values, it's still very helpful."
   ]
  },
  {
   "cell_type": "markdown",
   "metadata": {},
   "source": [
    "## Fifth attempt\n",
    "Since there are cities that are not in our training set from previous data set, I'm trying to see if there will be much difference if we do not use that variable."
   ]
  },
  {
   "cell_type": "code",
   "execution_count": 227,
   "metadata": {
    "collapsed": true
   },
   "outputs": [],
   "source": [
    "X_test_5 = X_train_4.drop('c_l',1)\n",
    "X_test_5 = X_test_4.drop('c_l',1)"
   ]
  },
  {
   "cell_type": "code",
   "execution_count": 228,
   "metadata": {
    "collapsed": false
   },
   "outputs": [
    {
     "data": {
      "text/plain": [
       "182811291.56565523"
      ]
     },
     "execution_count": 228,
     "metadata": {},
     "output_type": "execute_result"
    }
   ],
   "source": [
    "clf_5 = RandomForestRegressor(max_depth= 30, random_state=0)\n",
    "clf_5.fit(X_train_5, y_train_4)\n",
    "y_predict_5 = clf_5.predict(X_test_5)\n",
    "mean_squared_error(y_test_4, y_predict_5)"
   ]
  },
  {
   "cell_type": "code",
   "execution_count": 262,
   "metadata": {
    "collapsed": false
   },
   "outputs": [
    {
     "data": {
      "text/plain": [
       "8917.5251589702038"
      ]
     },
     "execution_count": 262,
     "metadata": {},
     "output_type": "execute_result"
    }
   ],
   "source": [
    "mean_absolute_error(y_test_4, y_predict_5)"
   ]
  },
  {
   "cell_type": "markdown",
   "metadata": {},
   "source": [
    "# (c)\n",
    "Finally,using your best regression model,predict the sale prices for the houses given"
   ]
  },
  {
   "cell_type": "code",
   "execution_count": 252,
   "metadata": {
    "collapsed": true
   },
   "outputs": [],
   "source": [
    "testDF = testData_.toPandas()\n",
    "testDF_ = testDF"
   ]
  },
  {
   "cell_type": "code",
   "execution_count": 214,
   "metadata": {
    "collapsed": false
   },
   "outputs": [],
   "source": [
    "msa_l_t = le_msa.transform(list(testDF['MSA']))\n",
    "#c_l_t =le_c.transform(list(testDF['City']))\n",
    "hs_l_t =le_hs.transform(list(testDF['HighSchool']))"
   ]
  },
  {
   "cell_type": "markdown",
   "metadata": {},
   "source": [
    "Due to cites ('Grand View-on-Hudson', 'Virgil') that's not in our training set, our previous label encoder for city variabe does not work. We have to do it by hand and give new labels to the new cities."
   ]
  },
  {
   "cell_type": "code",
   "execution_count": 240,
   "metadata": {
    "collapsed": false
   },
   "outputs": [],
   "source": [
    "orig_c = list(df_.index)\n",
    "city_l = le_c.transform(orig_c)\n",
    "\n",
    "d ={'City': orig_c, 'labe': city_l}\n",
    "d['Grand View-on-Hudson'] = 1344\n",
    "d['Virgil'] = 1345"
   ]
  },
  {
   "cell_type": "code",
   "execution_count": 242,
   "metadata": {
    "collapsed": true
   },
   "outputs": [],
   "source": [
    "def add_label(x):\n",
    "    try:\n",
    "        return int(d[x])\n",
    "    except:\n",
    "        v = len(d)\n",
    "        d[x] = v\n",
    "        return v"
   ]
  },
  {
   "cell_type": "code",
   "execution_count": 243,
   "metadata": {
    "collapsed": false
   },
   "outputs": [],
   "source": [
    "c_l_t = list(testDF['City'].apply(lambda x: add_label(x)))"
   ]
  },
  {
   "cell_type": "code",
   "execution_count": 244,
   "metadata": {
    "collapsed": true
   },
   "outputs": [],
   "source": [
    "testDF = testDF.drop(cate_cols+['ID'], 1)"
   ]
  },
  {
   "cell_type": "code",
   "execution_count": 245,
   "metadata": {
    "collapsed": true
   },
   "outputs": [],
   "source": [
    "testDF['msa_l'] = msa_l_t\n",
    "testDF['c_l'] = c_l_t\n",
    "testDF['hs_l'] = hs_l_t\n",
    "testDF['BuiltYear'] = testDF['BuiltYear'].apply(lambda x: 0 if x== 'NA' else x)\n",
    "testDF['BuildDecade'] = testDF['BuildDecade'].apply(lambda x: 0 if x.isdigit()== False else x)\n",
    "testDF['MajorRenov' ] = testDF['MajorRenov' ].apply(lambda x: 0 if x.isdigit()== False else x)"
   ]
  },
  {
   "cell_type": "code",
   "execution_count": 247,
   "metadata": {
    "collapsed": true
   },
   "outputs": [],
   "source": [
    "test_X = testDF.drop('SalePrice',1)\n",
    "predict_Y = clf_4.predict(test_X)\n",
    "testDF_['SalePrice'] = predict_Y\n",
    "testDF_.to_csv('assn6_prob3_predict.csv')"
   ]
  },
  {
   "cell_type": "code",
   "execution_count": null,
   "metadata": {
    "collapsed": true
   },
   "outputs": [],
   "source": []
  }
 ],
 "metadata": {
  "kernelspec": {
   "display_name": "Python 2",
   "language": "python",
   "name": "python2"
  },
  "language_info": {
   "codemirror_mode": {
    "name": "ipython",
    "version": 2
   },
   "file_extension": ".py",
   "mimetype": "text/x-python",
   "name": "python",
   "nbconvert_exporter": "python",
   "pygments_lexer": "ipython2",
   "version": "2.7.12"
  }
 },
 "nbformat": 4,
 "nbformat_minor": 2
}
