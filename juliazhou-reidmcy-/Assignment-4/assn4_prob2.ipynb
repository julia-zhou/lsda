{
 "cells": [
  {
   "cell_type": "code",
   "execution_count": 1,
   "metadata": {
    "collapsed": false
   },
   "outputs": [],
   "source": [
    "import os\n",
    "import re\n",
    "import json\n",
    "import matplotlib.pyplot as plt\n",
    "import numpy as np\n",
    "import string\n",
    "import pandas as pd\n",
    "import pyspark.sql.functions as F\n",
    "import nltk\n",
    "import cPickle as pickle\n",
    "\n",
    "from os import listdir\n",
    "from os.path import isfile, join\n",
    "from scipy.sparse import csr_matrix, dok_matrix, csc_matrix, coo_matrix\n",
    "import scipy.sparse.linalg\n",
    "from sklearn.metrics import mean_squared_error\n",
    "from sklearn.manifold import TSNE\n",
    "from itertools import chain\n",
    "from scipy.sparse import coo_matrix\n",
    "from pyspark.mllib.linalg.distributed import CoordinateMatrix, MatrixEntry, IndexedRow, IndexedRowMatrix\n",
    "from pyspark.sql import Row\n",
    "from sklearn.ensemble import AdaBoostClassifier\n",
    "from sklearn.linear_model import SGDClassifier, RidgeClassifierCV\n",
    "from operator import add\n",
    "from pyspark.sql.functions import udf\n",
    "from pyspark.sql import SparkSession\n",
    "from pyspark.sql.types import IntegerType, FloatType\n",
    "from __future__ import print_function, unicode_literals, with_statement, absolute_import, generators, nested_scopes, division\n",
    "from pyspark.sql.functions import mean, stddev\n",
    "%matplotlib inline"
   ]
  },
  {
   "cell_type": "code",
   "execution_count": 2,
   "metadata": {
    "collapsed": false
   },
   "outputs": [],
   "source": [
    "# Local Spark\n",
    "# spark session is now the entry point of spark program\n",
    "# for line 8, can use local[n] for run spark locally with n cores\n",
    "\n",
    "runLocal = True\n",
    "if runLocal == True:\n",
    "    spark = SparkSession.builder \\\n",
    "        .master('local[10]') \\\n",
    "        .appName(\"Word Count\") \\\n",
    "        .config(\"spark.driver.maxResultSize\", \"15g\")\\\n",
    "        .getOrCreate()\n",
    "else:\n",
    "    #p = subprocess.Popen(['sinteractive', '--partition=broadwl', '--cpus-per-task=10', '--time=00:30:00'], stdout=subprocess.PIPE, shell = True)\n",
    "    #print(p.stdout.read())\n",
    "    # start spark master program on this machine and register worker nodes\n",
    "    os.system('start-spark-slurm.sh&') # use & to put it into background\n",
    "    # get ip address of this machine\n",
    "    ip = os.popen('hostname -i').read().strip('\\n')\n",
    "    # change 'local' to be ip of master node\n",
    "    spark = SparkSession.builder \\\n",
    "        .master('spark://' + ip + ':7077') \\\n",
    "        .appName('Word Count') \\\n",
    "        .config(\"spark.driver.maxResultSize\", \"32g\")\\\n",
    "        .getOrCreate()\n",
    "    print('Spark Session web UI: http://{}:4040'.format(ip))"
   ]
  },
  {
   "cell_type": "code",
   "execution_count": 5,
   "metadata": {
    "collapsed": false
   },
   "outputs": [],
   "source": [
    "wiki_file = open('/project/cmsc25025/wikipedia/wiki-text.txt','r').readlines()[0]\n",
    "wiki_file = wiki_file[:len(wiki_file) // 10]\n",
    "num_chunks = 512\n",
    "chunks, chunk_size = len(wiki_file), int(len(wiki_file)/num_chunks)\n",
    "wiki_chunks = [wiki_file[i:i+chunk_size] for i in range(0, chunks, chunk_size)]\n",
    "wiki_data = spark.sparkContext.parallelize(wiki_chunks)"
   ]
  },
  {
   "cell_type": "markdown",
   "metadata": {},
   "source": [
    "# Get vocab"
   ]
  },
  {
   "cell_type": "code",
   "execution_count": 6,
   "metadata": {
    "collapsed": false
   },
   "outputs": [],
   "source": [
    "regenVocab = False\n",
    "\n",
    "def trans(t):\n",
    "    return t.lower().encode('utf-8').translate(string.maketrans(\"\",\"\"), string.punctuation).strip().split()\n",
    "\n",
    "def tokenizeStr(text, stopwordLst = None):\n",
    "    \n",
    "    sents = nltk.sent_tokenize(text)\n",
    "    tl = [nltk.word_tokenize(s) for s in sents]\n",
    "    tokenLst = list(chain(*tl))\n",
    "    \n",
    "    #Lowering the case and removing non-words\n",
    "    workingIter = (w.lower() for w in tokenLst if w.isalpha())\n",
    "   \n",
    "    #And remove the stopwords\n",
    "    if stopwordLst is not None:\n",
    "        workingIter = (w for w in workingIter if w not in stopwordLst)\n",
    "            \n",
    "    return list(workingIter)\n",
    "\n",
    "def getCounts(wikiTokens):\n",
    "    a = np.zeros(vocab_dim, dtype=np.int32)\n",
    "    for token in wikiTokens:\n",
    "        a[vocabDict[token]] += 1\n",
    "    return a"
   ]
  },
  {
   "cell_type": "code",
   "execution_count": 7,
   "metadata": {
    "collapsed": false
   },
   "outputs": [],
   "source": [
    "if regenVocab:\n",
    "    #initialize stop words\n",
    "    stop_words_nltk = nltk.corpus.stopwords.words('english')\n",
    "    words = wiki_data.flatMap(lambda x: trans(x)).collect()\n",
    "    word_dict = nltk.FreqDist(words)\n",
    "    for key in word_dict.keys():\n",
    "        if word_dict[key] <= 500:\n",
    "            word_dict.pop(key, None)\n",
    "    #len(word_dict): 13343\n",
    "    vocab = sorted(word_dict.keys())\n",
    "    \n",
    "    with open(\"vocab.txt\", \"w\") as v_file:\n",
    "        for item in vocab:\n",
    "            v_file.write(item + \", \")\n",
    "    with open(\"wiki.txt\", \"w\") as text_file:\n",
    "         for item in wiki:\n",
    "            text_file.write(item + \", \")\n",
    "else:\n",
    "    with open(\"vocab.txt\") as v_file:\n",
    "        vocab = v_file.readline().split(', ')"
   ]
  },
  {
   "cell_type": "code",
   "execution_count": 8,
   "metadata": {
    "collapsed": false
   },
   "outputs": [],
   "source": [
    "vocab_dim = len(vocab)\n",
    "vocabDict = {s : i for i, s in enumerate(vocab)}\n",
    "#tokenize and drop non-vocab\n",
    "wikiRDD = wiki_data.map(lambda x : [s for s in trans(x) if s in vocab]).cache()"
   ]
  },
  {
   "cell_type": "code",
   "execution_count": 9,
   "metadata": {
    "collapsed": true
   },
   "outputs": [],
   "source": [
    "def counter(tokens):\n",
    "    counts = {}\n",
    "    for t in tokens:\n",
    "        try:\n",
    "            counts[t] += 1\n",
    "        except KeyError:\n",
    "            counts[t] = 1\n",
    "    return counts\n",
    "\n",
    "def mergeCounts(c1, c2):\n",
    "    for t, c in c2.items():\n",
    "        try:\n",
    "            c1[t] += c\n",
    "        except KeyError:\n",
    "            c1[t] = c\n",
    "    return c1"
   ]
  },
  {
   "cell_type": "code",
   "execution_count": 10,
   "metadata": {
    "collapsed": false
   },
   "outputs": [],
   "source": [
    "#This takes a while because we are doing the tokenizing as well\n",
    "wikiCountsDict = wikiRDD.map(counter).reduce(mergeCounts)\n",
    "wikiCounts = np.zeros(vocab_dim)\n",
    "for s, i in vocabDict.items():\n",
    "    try:\n",
    "        wikiCounts[i] += wikiCountsDict[s]\n",
    "    except KeyError:\n",
    "        #There's a newline added when the file is read from disk\n",
    "        pass\n",
    "absD = np.sum(wikiCounts)"
   ]
  },
  {
   "cell_type": "markdown",
   "metadata": {},
   "source": [
    "Splitting the string into tokens as shown in the notes causes spark to raise an out of memory error, this is the main impedement. Contructiong the cooc matrix goes qucikly once the tokenizing and dropping have happened."
   ]
  },
  {
   "cell_type": "markdown",
   "metadata": {},
   "source": [
    "# PMI Embeddings"
   ]
  },
  {
   "cell_type": "code",
   "execution_count": 11,
   "metadata": {
    "collapsed": true
   },
   "outputs": [],
   "source": [
    "def makeCooc(wikiTokens):\n",
    "    coocDict = {}#dok_matrix((vocab_dim, vocab_dim), dtype=np.float64)\n",
    "    text_len = len(wikiTokens)\n",
    "    for i, word in enumerate(wikiTokens):\n",
    "        print(i)\n",
    "        wordIndex = vocabDict[word]\n",
    "        if i < 5:\n",
    "            context = wikiTokens[:i+5]\n",
    "        elif i > text_len - 5:\n",
    "            context = wikiTokens[i-5:]\n",
    "        else:\n",
    "            context = wikiTokens[i-5:i+5]\n",
    "        for wordC in [c for c in context if c != word]:\n",
    "            elemTuple = (wordIndex , vocabDict[wordC])\n",
    "            try:\n",
    "                coocDict[elemTuple] += 1\n",
    "            except KeyError:\n",
    "                coocDict[elemTuple] = 1\n",
    "    return coocDict"
   ]
  },
  {
   "cell_type": "code",
   "execution_count": 13,
   "metadata": {
    "collapsed": false
   },
   "outputs": [],
   "source": [
    "coocMat = wikiRDD.map(makeCooc).reduce(mergeCounts)"
   ]
  },
  {
   "cell_type": "code",
   "execution_count": 14,
   "metadata": {
    "collapsed": false
   },
   "outputs": [
    {
     "name": "stdout",
     "output_type": "stream",
     "text": [
      "99.99\r"
     ]
    }
   ],
   "source": [
    "l = len(coocMat)\n",
    "M = dok_matrix((vocab_dim, vocab_dim), dtype=np.float64)\n",
    "for i, ((x, y), c) in enumerate(coocMat.items()):\n",
    "    if i % 1000 == 0:\n",
    "        print('{:.2f}'.format(i /l * 100), end= '\\r')\n",
    "    M[x, y] = (c + 1) * absD / wikiCounts[x] / wikiCounts[y]\n",
    "M += M.T"
   ]
  },
  {
   "cell_type": "markdown",
   "metadata": {},
   "source": [
    "(b) Factorize M to obtain word embeddings"
   ]
  },
  {
   "cell_type": "code",
   "execution_count": 15,
   "metadata": {
    "collapsed": false
   },
   "outputs": [],
   "source": [
    "U, s, V = scipy.sparse.linalg.svds(M.tocsr(), k=50)"
   ]
  },
  {
   "cell_type": "code",
   "execution_count": 16,
   "metadata": {
    "collapsed": false
   },
   "outputs": [],
   "source": [
    "W = U * np.sqrt(s)"
   ]
  },
  {
   "cell_type": "code",
   "execution_count": 17,
   "metadata": {
    "collapsed": false
   },
   "outputs": [],
   "source": [
    "pmi_vects = {w : W[i] for w,i in vocabDict.items()}\n",
    "pmi_vectsRDD = spark.sparkContext.parallelize(pmi_vects.items()).cache()"
   ]
  },
  {
   "cell_type": "markdown",
   "metadata": {},
   "source": [
    "# Glove"
   ]
  },
  {
   "cell_type": "code",
   "execution_count": 3,
   "metadata": {
    "collapsed": false
   },
   "outputs": [],
   "source": [
    "#pretrained \n",
    "p_vectors_file = 'glove.6B.50d.txt'\n",
    "\n",
    "with open(p_vectors_file, 'r') as f:\n",
    "    p_vectors = {}\n",
    "    for line in f:\n",
    "        try:\n",
    "            vals = line.rstrip().split(' ')\n",
    "            p_vectors[vals[0]] = [float(x) for x in vals[1:]]\n",
    "        except ValueError:\n",
    "            continue\n",
    "p_vectsRDD = spark.sparkContext.parallelize(p_vectors.items()).cache()"
   ]
  },
  {
   "cell_type": "markdown",
   "metadata": {},
   "source": [
    "# Experiments\n",
    "\n",
    "- the PMI embeddings\n",
    "- the local GloVe embeddings\n",
    "- the downloaded pretrained GloVe embeddings\n",
    "\n",
    "## (a) Read your local GloVe embeddings"
   ]
  },
  {
   "cell_type": "code",
   "execution_count": 4,
   "metadata": {
    "collapsed": true
   },
   "outputs": [],
   "source": [
    "vocab_file   = 'GloVe/wiki-vocab.txt'\n",
    "vectors_file = 'GloVe/wiki-vectors.txt'\n",
    "\n",
    "with open(vocab_file, 'r') as f:\n",
    "    words = [x.rstrip().split(' ')[0] for x in f.readlines()]\n",
    "\n",
    "with open(vectors_file, 'r') as f:\n",
    "    vectors = {}\n",
    "    for line in f:\n",
    "        vals = line.rstrip().split(' ')\n",
    "        vectors[vals[0]] = [float(x) for x in vals[1:]]\n",
    "        \n",
    "vocabulary  = {w: idx for idx, w in enumerate(words)}\n",
    "ivocabulary = {idx: w for idx, w in enumerate(words)}\n",
    "\n",
    "vectsRDD = spark.sparkContext.parallelize(vectors.items()).cache()"
   ]
  },
  {
   "cell_type": "markdown",
   "metadata": {},
   "source": [
    "## (b) For each of the following words, find the 5 closest words in the embedding space: \n",
    "physics, republican, einstein, algebra, fish. \n",
    "\n",
    "Report and comment on your results and the differences between the three sets of embeddings."
   ]
  },
  {
   "cell_type": "code",
   "execution_count": 5,
   "metadata": {
    "collapsed": true
   },
   "outputs": [],
   "source": [
    "def find_closest(v, n, label):\n",
    "    if label == 'local':\n",
    "        vect = vectors\n",
    "        RDD = vectsRDD\n",
    "    elif label == \"pre\":\n",
    "        vect = p_vectors\n",
    "        RDD = p_vectsRDD\n",
    "    elif label == 'pmi':\n",
    "        vect = pmi_vects\n",
    "        RDD = pmi_vectsRDD\n",
    "    \n",
    "    if type(v)== type(' '):\n",
    "        v = np.array(vect[v])\n",
    "        \n",
    "    rdd = RDD.map(lambda x: (x[0], mean_squared_error(v,np.array(x[1]))))\n",
    "    tuples = sorted(rdd.collect(), key=lambda x: x[1])[1:1+n]\n",
    "    words = [x[0] for x in tuples]\n",
    "    return words"
   ]
  },
  {
   "cell_type": "code",
   "execution_count": 21,
   "metadata": {
    "collapsed": false
   },
   "outputs": [
    {
     "name": "stdout",
     "output_type": "stream",
     "text": [
      "Results from pretrained PMI embeddings:\n",
      "physics: answers, predicted, symmetry, fields, reflects\n",
      "republican: rugby, yeltsin, blessed, leading, gore\n",
      "einstein: mountainous, challenge, archbishop, requested, commissioners\n",
      "algebra: mathematics, agree, lorentz, given, covenant\n",
      "fish: fruit, freshwater, whales, liver, coffee\n",
      "\n",
      "Results from local GloVe embeddings:\n",
      "physics: mechanics, mathematics, chemistry, quantum, theoretical\n",
      "republican: democrat, senator, representative, republicans, whig\n",
      "einstein: relativity, maxwell, formulated, bose, relates\n",
      "algebra: algebras, algebraic, finite, multiplication, boolean\n",
      "fish: feed, fresh, wild, bird, dogs\n",
      "\n",
      "Results from pretrained GloVe embeddings:\n",
      "physics: chemistry, mathematics, theoretical, science, biology\n",
      "republican: gop, democrat, democratic, republicans, democrats\n",
      "einstein: bohr, relativity, invented, freud, gottlieb\n",
      "algebra: geometry, homological, algebraic, associative, analytic\n",
      "fish: salmon, shrimp, meat, bird, wild\n"
     ]
    }
   ],
   "source": [
    "word_list = ['physics', 'republican', 'einstein', 'algebra', 'fish']\n",
    "print(\"Results from pretrained PMI embeddings:\")\n",
    "for word in word_list:\n",
    "    print(word, \": \", ', '.join(find_closest(word,5, 'pmi')), sep = '')\n",
    "print()\n",
    "print(\"Results from local GloVe embeddings:\")\n",
    "for word in word_list:\n",
    "    print(word, \": \", ', '.join(find_closest(word,5, 'local')), sep = '')\n",
    "print()\n",
    "print(\"Results from pretrained GloVe embeddings:\")\n",
    "for word in word_list:\n",
    "    print(word, \": \", ', '.join(find_closest(word,5, 'pre')), sep = '')"
   ]
  },
  {
   "cell_type": "markdown",
   "metadata": {},
   "source": [
    "## (c) france :  paris ::  england :  ?"
   ]
  },
  {
   "cell_type": "code",
   "execution_count": 6,
   "metadata": {
    "collapsed": false
   },
   "outputs": [],
   "source": [
    "def get_analogy(a,b,c,local, mute = False, pmi = False):\n",
    "    if local == True:\n",
    "        v = np.array(vectors[b])-np.array(vectors[a])+np.array(vectors[c])\n",
    "        print(\"Result from local GloVe embeddings:\", find_closest(v,1,'local')[0])\n",
    "    if pmi:\n",
    "        v = np.array(pmi_vects[b])-np.array(pmi_vects[a])+np.array(pmi_vects[c])\n",
    "        print(\"Result from PMI embeddings:\", find_closest(v,1,'pmi')[0])\n",
    "    p_v = np.array(p_vectors[b])-np.array(p_vectors[a])+np.array(p_vectors[c])\n",
    "    s = find_closest(p_v,1,\"pre\")[0]\n",
    "    if not mute:\n",
    "        print(\"Result from pretrained GloVe embeddings:\", s)\n",
    "    else:\n",
    "        return s"
   ]
  },
  {
   "cell_type": "code",
   "execution_count": 23,
   "metadata": {
    "collapsed": false
   },
   "outputs": [
    {
     "name": "stdout",
     "output_type": "stream",
     "text": [
      "Result from local GloVe embeddings: edinburgh\n",
      "Result from PMI embeddings: seat\n",
      "Result from pretrained GloVe embeddings: london\n"
     ]
    }
   ],
   "source": [
    "get_analogy('france','paris','england', True, pmi = True)"
   ]
  },
  {
   "cell_type": "markdown",
   "metadata": {},
   "source": [
    "## (d) Analogies"
   ]
  },
  {
   "cell_type": "code",
   "execution_count": 11,
   "metadata": {
    "collapsed": true
   },
   "outputs": [],
   "source": [
    "path = '/project/cmsc25025/assn4_analogy'\n",
    "files = [f for f in listdir(path) if isfile(join(path, f))]\n",
    "def rmv(t):\n",
    "    words = filter(lambda x: x!= \"\", re.split('[^a-zA-Z]', t))\n",
    "    return words[:3]"
   ]
  },
  {
   "cell_type": "code",
   "execution_count": 15,
   "metadata": {
    "collapsed": false
   },
   "outputs": [
    {
     "data": {
      "text/plain": [
       "u'aham-jdhanoa.txt'"
      ]
     },
     "execution_count": 15,
     "metadata": {},
     "output_type": "execute_result"
    }
   ],
   "source": [
    "files[15]"
   ]
  },
  {
   "cell_type": "code",
   "execution_count": 24,
   "metadata": {
    "collapsed": false
   },
   "outputs": [
    {
     "name": "stdout",
     "output_type": "stream",
     "text": [
      "Looking at analogies from jihongsong-zlin7.txt\n",
      "segregate : unify = damage : overcome\n",
      "argentina : brazil = iran : tehran\n",
      "ashes : urn = money : paying\n",
      "telephone : cord = television : spinal\n",
      "walk : roam = speak : resent\n",
      "novel : epilogue = meal : meal\n",
      "chinese : china = french : french\n",
      "evening : morning = dinner : lunch\n",
      "left : right = horizontal : vertical\n",
      "theorem : deduce = hypothesis : decipher\n",
      "\n",
      "Looking at analogies from casperneo-rjcai.txt\n",
      "h : water = bird : fish\n",
      "chicken : egg = cow : cloned\n",
      "go : green = stop : yellow\n",
      "chicago : illinois = dallas : illinois\n",
      "library : book = resturant : 'resturant' missing from library\n",
      "dessert : meal = revelations : abuse\n",
      "chef : knife = student : gun\n",
      "cookies : milk = chips : chips\n",
      "\n",
      "Looking at analogies from guozhenj.txt\n",
      "math : physics = calculus : relativity\n",
      "marvel : dc = captain : adrian\n",
      "thor : loki = hammer : shove\n",
      "odin : hela = asgard : stroma\n",
      "beijing : shanghai = tiananmen : pagoda\n",
      "detroit : chicago = car : driving\n",
      "earth : mars = human : cites\n",
      "ice : fire = cold : attack\n",
      "lannister : stark = tywin : suggests\n",
      "uchicago : northwestern = smart : 'uchicago' missing from library\n",
      "\n",
      "Looking at analogies from daisyding-nianyichen.txt\n",
      "physics : astronomy = chemistry : chemistry\n",
      "good : better = bad : worse\n",
      "eat : happy = run : career\n",
      "healthy : vegetable = unhealthy : perishable\n",
      "rubber : elastic = glass : three-dimensional\n",
      "star : planet = nuclei : atoms\n",
      "night : black = day : white\n",
      "wolf : dog = tiger : dog\n",
      "canada : america = germany : europe\n",
      "china : tea = france : bordeaux\n",
      "\n",
      "Looking at analogies from dla.txt\n",
      "left : right = up : right\n",
      "dog : cat = puppy : kitten\n",
      "finger : hand = toe : hand\n",
      "page : book = finger : fingers\n",
      "day : night = up : out\n",
      "hard : easy = awake : waking\n",
      "brain : body = engine : chassis\n",
      "cereal : milk = butter : mixture\n",
      "street : city = vein : cerebral\n",
      "happy : sad = smile : sad\n",
      "\n",
      "Looking at analogies from songyuand-wanghaochen.txt\n",
      "japan : sushi = mexico : tasting\n",
      "economics : finance = mathematics : addition\n",
      "basketball : jordan = soccer : egypt\n",
      "poetry : poet = music : composer\n",
      "england : capitalism = china : capitalism\n",
      "ship : sea = plane : plane\n",
      "physics : newton = biology : addison\n",
      "war : weapon = peace : precondition\n",
      "school : teacher = hospital : nurse\n",
      "pork : pig = beef : pig\n",
      "\n",
      "Looking at analogies from cloptla-jgnewman.txt\n",
      "milwaukee : wisconsin = meridian : cherwell\n",
      "acting : oscar = music : music\n",
      "present : past = contemporary : inspired\n",
      "judaism : rabbi = christianity : isaac\n",
      "tragedy : sad = comedy : sitcom\n",
      "ireland : potatoes = italy : tomato\n",
      "sailing : boat = driving : car\n",
      "night : dark = day : bright\n",
      "motif : theme = detail : detail\n",
      "hypothesis : result = question : over\n",
      "\n",
      "Looking at analogies from jchee-weian.txt\n",
      "black : color = triangle : pixel\n",
      "cold : hot = freezing : hot\n",
      "cat : kitten = dog : puppy\n",
      "france : europe = china : taiwan\n",
      "boy : girl = man : man\n",
      "tall : short = big : making\n",
      "master : apprentice = teacher : homemaker\n",
      "tree : plant = dog : factory\n",
      "knight : squire = professor : sociologist\n",
      "man : woman = mr : mr\n",
      "\n",
      "Looking at analogies from chrischen.txt\n",
      "democrat : republican = conservative : conservatives\n",
      "guangdong : guangzhou = hangzhou : guangzhou\n",
      "ohio : illinois = boston : chicago\n",
      "senator : senate = representative : representative\n",
      "highway : car = railroad : automobile\n",
      "africa : congo = china : tajikistan\n",
      "lincoln : republican = clinton : democrats\n",
      "computer : cpu = brain : parenchyma\n",
      "keyboard : hardware = linux : open-source\n",
      "physics : science = history : nation\n",
      "\n",
      "Looking at analogies from ladyson.txt\n",
      "baseball : diamond = football : diamonds\n",
      "coffee : milk = toast : butter\n",
      "happy : sad = day : sad\n",
      "dolphin : ocean = eagle : atlantic\n",
      "north : south = right : put\n",
      "christian : church = muslim : holy\n",
      "pen : sword = love : sword\n",
      "match : fire = hammer : fire\n",
      "happy : sad = wet : foggy\n",
      "heaven : god = hell : hell\n",
      "\n",
      "Looking at analogies from denkang95-katienz.txt\n",
      "fire : burning = ice : melting\n",
      "boat : sink = car : car\n",
      "three : four = five : six\n",
      "woods : acorn = orchard : casein\n",
      "picture : blurry = knife : pocketknife\n",
      "farm : dirt = city : inside\n",
      "drizzle : storm = wind : hurricane\n",
      "deer : doe = cow : leaked\n",
      "camera : picture = microphone : proudly\n",
      "friend : enemy = cat : predator\n",
      "\n",
      "Looking at analogies from gregn-rudyardrichter.txt\n",
      "bose : einstein = newton : einstein\n",
      "square : cube = triangle : helix\n",
      "linux : free = microsoft : seeking\n",
      "keyboard : type = mouse : humans\n",
      "coffee : bean = tea : curry\n",
      "michigan : lansing = illinois : evanston\n",
      "tree : bark = plant : plants\n",
      "hammer : nail = screwdriver : scissors\n",
      "dice : roll = coin : stamp\n",
      "mathematics : gauss = physics : popper\n",
      "\n",
      "Looking at analogies from andyz422-kunalg.txt\n",
      "boy : girl = man : man\n",
      "murder : suicide = knife : bullet\n",
      "dictionary : definition = novel : effect\n",
      "germany : hitler = china : jiang\n",
      "listen : deaf = look : deaf\n",
      "beer : alcohol = marijuana : alcohol\n",
      "america : canada = china : taiwan\n",
      "bread : butter = egg : eggs\n",
      "finance : money = technology : ability\n",
      "happy : smile = depressed : depressed\n",
      "\n",
      "Looking at analogies from kevintse-nakrishna.txt\n",
      "tennis : racket = baseball : thrown\n",
      "Illinois : Springfield = Connecticut : 'Springfield' missing from library\n",
      "bed : sleep = chair : hopkins\n",
      "mango : fruit = eggplant : cooked\n",
      "pen : write = scissor : compose\n",
      "snake : reptile = frog : amphibian\n",
      "nose : breathe = eye : someday\n",
      "hand : finger = foot : hoof\n",
      "watch : wrist = ring : forearm\n",
      "girlfriend : wife = boyfriend : husband\n",
      "\n",
      "Looking at analogies from kwokhao-scarlettli.txt\n",
      "pulse : heart = rhythm : hip\n",
      "sermons : priest = musicals : clown\n",
      "therapy : psychologist = cuisine : chef\n",
      "silence : sounds = vacuum : vacuum\n",
      "yin : daylight = yang : stopping\n",
      "documentation : governments = certification : nations\n",
      "taxonomy : biology = topology : geometry\n",
      "presidents : campaigns = generals : tactics\n",
      "prosecutor : accusations = defendant : false\n",
      "marxist : capitalism = capitalist : capitalist\n",
      "\n",
      "Looking at analogies from aham-jdhanoa.txt\n",
      "steel : carnegie = computer : harvard\n",
      "art : artist = music : songwriter\n",
      "fruit : tomato = vegetable : vegetable\n",
      "white : dwarf = gas : lpg\n",
      "america : burger = italy : unicredito\n",
      "geography : land = statistics : total\n",
      "australia : sydney = france : france\n",
      "washington : redwood = japan : tapir\n",
      "good : friend = bad : friend\n",
      "war : nuclear = peace : enrichment\n",
      "\n",
      "Looking at analogies from smithcd.txt\n",
      "spain : spanish = poland : poland\n",
      "string : guitar = key : replaced\n",
      "hot : cold = bright : dark\n",
      "happy : sad = positive : positive\n",
      "elf : fair = dwarf : exhibit\n",
      "dirt : brown = leaf : leaf\n",
      "up : down = left : broke\n",
      "hungry : eat = tired : 'd\n",
      "teacher : school = doctor : doctor\n",
      "eye : see = finger : simply\n",
      "\n",
      "Looking at analogies from wilson97-yzpang.txt\n",
      "compactness : topology = differentiability : differentiability\n",
      "filibuster : holdup = gerrymandering : durazno\n",
      "miserly : generous = languid : generous\n",
      "happiness : ecstasy = unhappiness : snorting\n",
      "grape : fruit = tomato : soup\n",
      "sunrise : sunset = birth : marriage\n",
      "branch : tree = wheel : wheel\n",
      "dance : dancer = swim : swim\n",
      "chicago : illinois = houston : ohio\n",
      "excitement : quench = fire : extinguish\n",
      "\n",
      "Looking at analogies from rgeada.txt\n",
      "shoe : boot = shirt : boot\n",
      "talk : sing = walk : walk\n",
      "proletariet : bourgeois = man : 'proletariet' missing from library\n",
      "baby : adult = puppy : generalist\n",
      "novice : master = amateur : amateur\n",
      "short : tall = skinny : wiry\n",
      "thank : apologize = greet : enraged\n",
      "cow : herd = bird : bird\n",
      "basketball : court = football : appeals\n",
      "student : teacher = employee : employer\n",
      "\n",
      "Looking at analogies from lisnic.txt\n",
      "illinois : chicago = california : francisco\n",
      "russia : putin = germany : helmut\n",
      "microsoft : windows = apple : window\n",
      "federer : tennis = ronaldo : ronaldo\n",
      "sushi : japan = lasagna : greece\n",
      "fish : water = bird : cloud\n",
      "black : white = dark : gray\n",
      "eyes : ears = see : probably\n",
      "firefighter : fire = doctor : to\n",
      "north : south = east : south\n",
      "\n",
      "Looking at analogies from juliazhou-reidmcy.txt\n",
      "methane : methanol = ethane : b20\n",
      "past : future = behind : challenge\n",
      "rusnok : czechia = singh : clique\n",
      "fermion : electron = boson : boson\n",
      "apple : us = huawei : militaries\n",
      "sociology : soft = physics : liquid\n",
      "key : lock = password : username\n",
      "aristotle : plato = plato : cratylus\n",
      "Australia : act = us : 'Australia' missing from library\n",
      "mexico : taco = china : snack\n",
      "\n",
      "Looking at analogies from iouchkov-rebeccaqian.txt\n",
      "boy : girl = man : man\n",
      "russia : moscow = china : shanghai\n",
      "hospital : nurse = school : graduate\n",
      "kitten : cat = puppy : dog\n",
      "breakfast : morning = dinner : afternoon\n",
      "movie : watch = book : papers\n",
      "comedy : funny = tragedy : tragic\n",
      "english : england = russian : moscow\n",
      "fraternity : male = sorority : female\n",
      "left : right = up : right\n",
      "\n",
      "Looking at analogies from bdixon.txt\n",
      "olympia : washington = annapolis : discuss\n",
      "breakfast : morning = dinner : afternoon\n",
      "pen : writing = brush : work\n",
      "basketball : hoop = soccer : scheffer\n",
      "baltimore : ravens = pittsburgh : redskins\n",
      "coffee : mug = soup : :-)\n",
      "eggs : omelette = flour : jerkan\n",
      "santa : christmas = bunny : halloween\n",
      "economics : money = theology : giving\n",
      "sit : chair = sleep : sleep\n",
      "\n",
      "Looking at analogies from kcsong-leypunskiy.txt\n",
      "open : closed = near : nearby\n",
      "smart : intelligent = sly : playful\n",
      "mouth : eat = ear : ate\n",
      "dirt : brown = leaves : leaves\n",
      "summer : hot = winter : snow\n",
      "nurse : hospital = teacher : school\n",
      "thirsty : drink = hungry : drinks\n",
      "up : down = left : broke\n",
      "pencil : write = knife : child\n",
      "bed : bedroom = toilet : toilet\n",
      "Something is wrong with line: '\n",
      "'\n",
      "toilet\n",
      "\n",
      "Looking at analogies from lmcindewar.txt\n",
      "sonny : cher = simon : garfunkel\n",
      "quayle : bush = gore : clinton\n",
      "laurel : hardy = cheech : fickman\n",
      "batman : gotham = superman : excalibur\n",
      "pork : pig = beef : pig\n",
      "crow : murder = lion : robbery\n",
      "left : right = up : right\n",
      "paris : parisian = glasgow : bexley\n",
      "manicure : fingers = pedicure : toes\n",
      "austin : texas = topeka : wichita\n",
      "\n",
      "Looking at analogies from shucen.txt\n",
      "fruit : juice = milk : juice\n",
      "animal : zoo = plant : zoo\n",
      "england : london = china : beijing\n",
      "lip : lipstick = eye : lipstick\n",
      "restaurant : food = bar : reduce\n",
      "winter : ski = summer : golf\n",
      "weekday : work = weekend : trying\n",
      "hospital : doctor = school : teacher\n",
      "bank : money = museum : collection\n",
      "back : deadlift = legs : chitinous\n",
      "\n",
      "Looking at analogies from jyli-yezhou.txt\n",
      "sun : day = moon : eve\n",
      "cow : beef = pig : beef\n",
      "woman : man = girl : man\n",
      "homeless : poor = billionaire : tycoon\n",
      "baby : adult = puppy : generalist\n",
      "fish : swimming = bird : olympic\n",
      "fire : hot = ice : hot\n",
      "mouth : speak = hand : wanted\n",
      "china : asia = france : belgium\n",
      "in : out = up : up\n",
      "\n",
      "Looking at analogies from Analogy_Words_barjesteh_mayalozinski.txt\n",
      "canada : ontario = england : yorkshire\n",
      "congress : congressman = senate : sen.\n",
      "congressman : election = senator : elections\n",
      "doctor : patient = pilot : pilots\n",
      "china : chinese = england : scottish\n",
      "china : chinese = canada : canada\n",
      "white : black = bright : dark\n",
      "white : color = black : colors\n",
      "poker : tournament = football : team\n",
      "\n",
      "Looking at analogies from ereinherz-nlozinski.txt\n",
      "bark : dog = meow : bash\n",
      "good : heaven = evil : daleks\n",
      "drop : rain = flake : salukvadze\n",
      "leaf : tree = petal : tree\n",
      "finger : hand = toe : hand\n",
      "calf : cow = lamb : fried\n",
      "moon : night = sun : morning\n",
      "hoof : horse = foot : ride\n",
      "hot : summer = cold : winter\n",
      "electron : atom = planet : universe\n",
      "\n",
      "Looking at analogies from juliaxu.txt\n",
      "summer : hot = winter : snow\n",
      "english : words = math : memorize\n",
      "tshirt : top = pants : 'tshirt' missing from library\n",
      "eye : see = ear : literally\n",
      "hate : love = darkness : twilight\n",
      "hill : mountain = lake : lakes\n",
      "light : lamp = wind : furnace\n",
      "cloud : rain = sun : sun\n",
      "tv : watch = book : read\n",
      "jew : judaism = christian : christianity\n",
      "\n",
      "Looking at analogies from khong-willchen.txt\n",
      "chicago : beijing = windy : beijing\n",
      "humanities : unemployed = science : seriously\n",
      "finance : evil = academia : immortal\n",
      "school : stress = vacation : disruption\n",
      "cow : pig = beef : beef\n",
      "cow : beef = pig : beef\n",
      "beer : alcohol = weed : weed\n",
      "banker : powerpoint = engineer : computer-based\n",
      "class : studying = gym : gym\n",
      "machine : learning = human : understanding\n",
      "\n",
      "Looking at analogies from cschung-dmunger.txt\n",
      "father : doctor = mother : nurse\n",
      "man : programmer = woman : prodigy\n",
      "dog : bark = cat : twigs\n",
      "chicken : eggs = humans : organisms\n",
      "shard : pottery = splinter : tribes\n",
      "chicago : illinois = milwaukee : ohio\n",
      "stars : cosmos = dirt : irrigating\n",
      "eraser : pencil = hat : shirt\n",
      "christmas : december = halloween : february\n",
      "hitler : germany = stalin : austria\n"
     ]
    }
   ],
   "source": [
    "for fname in files:\n",
    "    print(\"Looking at analogies from {}\".format(fname))\n",
    "    with open(path+\"/\"+fname, 'r') as f:\n",
    "        for line in f:\n",
    "            try:\n",
    "                a, b, c = rmv(line)\n",
    "                print('{} : {} = {} : '.format(a, b, c), end = '')\n",
    "            except ValueError:\n",
    "                print(\"Something is wrong with line: '{}'\".format(line))\n",
    "            else:\n",
    "                try:\n",
    "                    print(get_analogy(a,b,c, False, True))\n",
    "                except KeyError as e:\n",
    "                    print(\"'{}' missing from library\".format(e.args[0]))\n",
    "    print()"
   ]
  },
  {
   "cell_type": "markdown",
   "metadata": {},
   "source": [
    "## (e) Visualize only the pretrained GloVe embeddings in two dimensions"
   ]
  },
  {
   "cell_type": "code",
   "execution_count": 25,
   "metadata": {
    "collapsed": true
   },
   "outputs": [],
   "source": [
    "words_ = p_vectors.keys()\n",
    "W = p_vectsRDD.map(lambda x: np.array(x[1])).collect()"
   ]
  },
  {
   "cell_type": "code",
   "execution_count": 26,
   "metadata": {
    "collapsed": false
   },
   "outputs": [
    {
     "data": {
      "image/png": "[encoded data removed]",
      "text/plain": [
       "<matplotlib.figure.Figure at 0x7fbfbbe9bcd0>"
      ]
     },
     "metadata": {},
     "output_type": "display_data"
    }
   ],
   "source": [
    "tsne = TSNE(n_components=2, random_state=0)\n",
    "np.set_printoptions(suppress=True)\n",
    "Y = tsne.fit_transform(W[:1000])\n",
    "plt.scatter(Y[:, 0], Y[:, 1])\n",
    "for label, x, y in zip(words, Y[:, 0], Y[:, 1]):\n",
    "    plt.annotate(label, xy=(x, y), xytext=(0, 0),textcoords='offset points')\n",
    "plt.show()"
   ]
  },
  {
   "cell_type": "markdown",
   "metadata": {},
   "source": [
    "In this tiny segment of words, we are able to observe that words that surround \"parliament\" include \"go\", \"territory\", \"different\", \"future\", \"notable\", \"public\", \"problem\", \"independence\", \"minister\" and etc. It's apparent that these words are often used close to \"parliament\". For example, \"go to parliament\", \"the parliament discuss territory problems\", \"different parliament could lead to different future\"."
   ]
  },
  {
   "cell_type": "code",
   "execution_count": null,
   "metadata": {
    "collapsed": true
   },
   "outputs": [],
   "source": [
    "spark.stop()"
   ]
  }
 ],
 "metadata": {
  "kernelspec": {
   "display_name": "Python 2",
   "language": "python",
   "name": "python2"
  },
  "language_info": {
   "codemirror_mode": {
    "name": "ipython",
    "version": 2
   },
   "file_extension": ".py",
   "mimetype": "text/x-python",
   "name": "python",
   "nbconvert_exporter": "python",
   "pygments_lexer": "ipython2",
   "version": "2.7.12"
  }
 },
 "nbformat": 4,
 "nbformat_minor": 2
}
